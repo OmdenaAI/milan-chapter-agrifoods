{
 "cells": [
  {
   "cell_type": "code",
   "execution_count": 1,
   "id": "c36da699-fa7b-4a2e-b711-30ed8c968517",
   "metadata": {},
   "outputs": [],
   "source": [
    "import os ,json\n",
    "import pandas as pd "
   ]
  },
  {
   "cell_type": "code",
   "execution_count": 2,
   "id": "39615c63-a835-4899-b4bb-9eaa6cdbf578",
   "metadata": {},
   "outputs": [],
   "source": [
    "folder = \"./data\"  #folder path where files are located "
   ]
  },
  {
   "cell_type": "code",
   "execution_count": 5,
   "id": "1ff05c8f-3954-46c0-bbeb-237b86ab9ba1",
   "metadata": {},
   "outputs": [],
   "source": [
    "files = os.listdir(folder) # lists all the files in the selected folder"
   ]
  },
  {
   "cell_type": "code",
   "execution_count": 10,
   "id": "1687f76c-0f96-48f2-9879-8ed181c8647d",
   "metadata": {},
   "outputs": [],
   "source": [
    "file_path = os.path.join(folder,files[0]) #create full path for the selected file "
   ]
  },
  {
   "cell_type": "code",
   "execution_count": 11,
   "id": "eae5deb1-c805-40dd-873a-eeba51e650b2",
   "metadata": {},
   "outputs": [],
   "source": [
    "with open(file_path,'r') as fs:\n",
    "    data = json.load(fs).get('properties').get('parameter')  #load the contents of the file to data\n",
    "    "
   ]
  },
  {
   "cell_type": "code",
   "execution_count": 14,
   "id": "7e9cd6bc-1e09-4cf9-a6fb-04f2d8f71027",
   "metadata": {},
   "outputs": [],
   "source": [
    "df= pd.DataFrame(data).reset_index().rename(columns={'index':'Date'})# create a datafrom out of it"
   ]
  },
  {
   "cell_type": "code",
   "execution_count": 15,
   "id": "5aa161a4-9a35-4be8-95a2-e7cd4f0ddbcd",
   "metadata": {},
   "outputs": [
    {
     "data": {
      "text/html": [
       "<div>\n",
       "<style scoped>\n",
       "    .dataframe tbody tr th:only-of-type {\n",
       "        vertical-align: middle;\n",
       "    }\n",
       "\n",
       "    .dataframe tbody tr th {\n",
       "        vertical-align: top;\n",
       "    }\n",
       "\n",
       "    .dataframe thead th {\n",
       "        text-align: right;\n",
       "    }\n",
       "</style>\n",
       "<table border=\"1\" class=\"dataframe\">\n",
       "  <thead>\n",
       "    <tr style=\"text-align: right;\">\n",
       "      <th></th>\n",
       "      <th>Date</th>\n",
       "      <th>GWETPROF</th>\n",
       "      <th>GWETTOP</th>\n",
       "      <th>GWETROOT</th>\n",
       "      <th>CLOUD_AMT</th>\n",
       "      <th>TS</th>\n",
       "      <th>PS</th>\n",
       "      <th>RH2M</th>\n",
       "      <th>QV2M</th>\n",
       "      <th>PRECTOTCORR</th>\n",
       "      <th>T2M_MAX</th>\n",
       "      <th>T2M_MIN</th>\n",
       "      <th>T2M_RANGE</th>\n",
       "      <th>WS2M</th>\n",
       "    </tr>\n",
       "  </thead>\n",
       "  <tbody>\n",
       "    <tr>\n",
       "      <th>0</th>\n",
       "      <td>20120101</td>\n",
       "      <td>0.66</td>\n",
       "      <td>0.69</td>\n",
       "      <td>0.69</td>\n",
       "      <td>43.37</td>\n",
       "      <td>1.08</td>\n",
       "      <td>101.25</td>\n",
       "      <td>73.06</td>\n",
       "      <td>3.54</td>\n",
       "      <td>0.00</td>\n",
       "      <td>7.93</td>\n",
       "      <td>0.64</td>\n",
       "      <td>7.29</td>\n",
       "      <td>0.70</td>\n",
       "    </tr>\n",
       "    <tr>\n",
       "      <th>1</th>\n",
       "      <td>20120102</td>\n",
       "      <td>0.66</td>\n",
       "      <td>0.70</td>\n",
       "      <td>0.69</td>\n",
       "      <td>88.76</td>\n",
       "      <td>1.59</td>\n",
       "      <td>101.02</td>\n",
       "      <td>92.69</td>\n",
       "      <td>4.33</td>\n",
       "      <td>8.38</td>\n",
       "      <td>4.53</td>\n",
       "      <td>0.75</td>\n",
       "      <td>3.78</td>\n",
       "      <td>1.44</td>\n",
       "    </tr>\n",
       "    <tr>\n",
       "      <th>2</th>\n",
       "      <td>20120103</td>\n",
       "      <td>0.68</td>\n",
       "      <td>0.73</td>\n",
       "      <td>0.70</td>\n",
       "      <td>65.72</td>\n",
       "      <td>2.90</td>\n",
       "      <td>101.33</td>\n",
       "      <td>81.94</td>\n",
       "      <td>4.52</td>\n",
       "      <td>2.89</td>\n",
       "      <td>8.42</td>\n",
       "      <td>2.84</td>\n",
       "      <td>5.58</td>\n",
       "      <td>1.98</td>\n",
       "    </tr>\n",
       "    <tr>\n",
       "      <th>3</th>\n",
       "      <td>20120104</td>\n",
       "      <td>0.68</td>\n",
       "      <td>0.71</td>\n",
       "      <td>0.70</td>\n",
       "      <td>71.95</td>\n",
       "      <td>-0.06</td>\n",
       "      <td>100.95</td>\n",
       "      <td>81.00</td>\n",
       "      <td>3.60</td>\n",
       "      <td>0.26</td>\n",
       "      <td>4.55</td>\n",
       "      <td>1.01</td>\n",
       "      <td>3.54</td>\n",
       "      <td>1.14</td>\n",
       "    </tr>\n",
       "    <tr>\n",
       "      <th>4</th>\n",
       "      <td>20120105</td>\n",
       "      <td>0.68</td>\n",
       "      <td>0.71</td>\n",
       "      <td>0.70</td>\n",
       "      <td>82.48</td>\n",
       "      <td>0.44</td>\n",
       "      <td>99.55</td>\n",
       "      <td>76.69</td>\n",
       "      <td>3.42</td>\n",
       "      <td>0.27</td>\n",
       "      <td>6.35</td>\n",
       "      <td>0.55</td>\n",
       "      <td>5.80</td>\n",
       "      <td>1.50</td>\n",
       "    </tr>\n",
       "  </tbody>\n",
       "</table>\n",
       "</div>"
      ],
      "text/plain": [
       "       Date  GWETPROF  GWETTOP  GWETROOT  CLOUD_AMT    TS      PS   RH2M  \\\n",
       "0  20120101      0.66     0.69      0.69      43.37  1.08  101.25  73.06   \n",
       "1  20120102      0.66     0.70      0.69      88.76  1.59  101.02  92.69   \n",
       "2  20120103      0.68     0.73      0.70      65.72  2.90  101.33  81.94   \n",
       "3  20120104      0.68     0.71      0.70      71.95 -0.06  100.95  81.00   \n",
       "4  20120105      0.68     0.71      0.70      82.48  0.44   99.55  76.69   \n",
       "\n",
       "   QV2M  PRECTOTCORR  T2M_MAX  T2M_MIN  T2M_RANGE  WS2M  \n",
       "0  3.54         0.00     7.93     0.64       7.29  0.70  \n",
       "1  4.33         8.38     4.53     0.75       3.78  1.44  \n",
       "2  4.52         2.89     8.42     2.84       5.58  1.98  \n",
       "3  3.60         0.26     4.55     1.01       3.54  1.14  \n",
       "4  3.42         0.27     6.35     0.55       5.80  1.50  "
      ]
     },
     "execution_count": 15,
     "metadata": {},
     "output_type": "execute_result"
    }
   ],
   "source": [
    "df.head()"
   ]
  },
  {
   "cell_type": "code",
   "execution_count": null,
   "id": "24416861-bd19-4d5d-ab71-4b13d056a43c",
   "metadata": {},
   "outputs": [],
   "source": []
  }
 ],
 "metadata": {
  "kernelspec": {
   "display_name": "Python 3 (ipykernel)",
   "language": "python",
   "name": "python3"
  },
  "language_info": {
   "codemirror_mode": {
    "name": "ipython",
    "version": 3
   },
   "file_extension": ".py",
   "mimetype": "text/x-python",
   "name": "python",
   "nbconvert_exporter": "python",
   "pygments_lexer": "ipython3",
   "version": "3.9.7"
  }
 },
 "nbformat": 4,
 "nbformat_minor": 5
}
