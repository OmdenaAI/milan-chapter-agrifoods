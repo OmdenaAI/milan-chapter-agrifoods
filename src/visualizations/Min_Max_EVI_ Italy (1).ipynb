{
 "cells": [
  {
   "cell_type": "markdown",
   "id": "97662a29",
   "metadata": {},
   "source": [
    "# Satellite Data Milan"
   ]
  },
  {
   "cell_type": "markdown",
   "id": "5191821c",
   "metadata": {},
   "source": [
    "- Remove the #  to run once you have installed and imported earth engine `ee`\n",
    "\n",
    "- Change file directory to load location of Italy"
   ]
  },
  {
   "cell_type": "code",
   "execution_count": 2,
   "id": "3e8c1390",
   "metadata": {},
   "outputs": [
    {
     "data": {
      "text/html": [
       "<p>To authorize access needed by Earth Engine, open the following\n",
       "        URL in a web browser and follow the instructions:</p>\n",
       "        <p><a href=https://code.earthengine.google.com/client-auth?scopes=https%3A//www.googleapis.com/auth/earthengine%20https%3A//www.googleapis.com/auth/devstorage.full_control&request_id=P_dGuMk9GlYc-Yh0IHAABPZT7sgsny3rq4X-zhBBens&tc=kD2olIVmWiBjmAfgeEKU2UH0WaAE208vNvSZKsDUhAo&cc=pjD15fF0twkyIAeAKZ6oJcXqGfTS9sGT3-oVRl7Tnug>https://code.earthengine.google.com/client-auth?scopes=https%3A//www.googleapis.com/auth/earthengine%20https%3A//www.googleapis.com/auth/devstorage.full_control&request_id=P_dGuMk9GlYc-Yh0IHAABPZT7sgsny3rq4X-zhBBens&tc=kD2olIVmWiBjmAfgeEKU2UH0WaAE208vNvSZKsDUhAo&cc=pjD15fF0twkyIAeAKZ6oJcXqGfTS9sGT3-oVRl7Tnug</a></p>\n",
       "        <p>The authorization workflow will generate a code, which you should paste in the box below.</p>\n",
       "        "
      ],
      "text/plain": [
       "<IPython.core.display.HTML object>"
      ]
     },
     "metadata": {},
     "output_type": "display_data"
    },
    {
     "name": "stdout",
     "output_type": "stream",
     "text": [
      "Enter verification code: 4/1ARtbsJrNFqOeEbEh2_g1l6mhqVI_8sBVeSaPy-I0jYjjCYOd_XPVB_5cXW8\n",
      "\n",
      "Successfully saved authorization token.\n"
     ]
    }
   ],
   "source": [
    "import ee\n",
    "\n",
    "# Trigger the authentication flow.\n",
    "#ee.Authenticate()\n",
    "\n",
    "# Initialize the library.\n",
    "ee.Initialize()\n",
    "#import geemap"
   ]
  },
  {
   "cell_type": "markdown",
   "id": "c9edc704",
   "metadata": {},
   "source": [
    " Uisnf MODIS Data source extract the followings \n",
    "\n",
    "\n",
    "- Land cover `LC`\n",
    "\n",
    "-  Land Surface temperature`LST`\n",
    "\n",
    "Using USGS\n",
    "\n",
    "- Ground elevation `ELV`\n"
   ]
  },
  {
   "cell_type": "code",
   "execution_count": 3,
   "id": "8b28a2f7",
   "metadata": {},
   "outputs": [],
   "source": [
    "# Import the MODIS land cover collection.\n",
    "lc = ee.ImageCollection('MODIS/006/MCD12Q1')\n",
    "# Import the MODIS land surface temperature collection.\n",
    "lst = ee.ImageCollection('MODIS/006/MOD11A1')\n",
    "\n",
    "# Import the USGS ground elevation image.\n",
    "elv = ee.Image('USGS/SRTMGL1_003')"
   ]
  },
  {
   "cell_type": "code",
   "execution_count": 4,
   "id": "b20674ab",
   "metadata": {},
   "outputs": [
    {
     "name": "stdout",
     "output_type": "stream",
     "text": [
      "ee.ImageCollection({\n",
      "  \"functionInvocationValue\": {\n",
      "    \"functionName\": \"ImageCollection.load\",\n",
      "    \"arguments\": {\n",
      "      \"id\": {\n",
      "        \"constantValue\": \"MODIS/006/MCD12Q1\"\n",
      "      }\n",
      "    }\n",
      "  }\n",
      "})\n"
     ]
    }
   ],
   "source": [
    "print(lc)"
   ]
  },
  {
   "cell_type": "markdown",
   "id": "4cc541b6",
   "metadata": {},
   "source": [
    "- **Features**: geometric objects with a list of properties. `ee.Feature`.\n",
    "\n",
    "- **Image**: similar to features, but may include several **bands**, `ee.Image`\n",
    "\n",
    "- **Collections** which are groups of features or images"
   ]
  },
  {
   "cell_type": "markdown",
   "id": "afd54dfb",
   "metadata": {},
   "source": [
    "- since all images come in a different resolution, frequency, and possibly projection, ranging from daily images in a 1 km resolution for LST to a single image representing data for the year 2000 in a 30 m resolution for the ELV,GEE takes care of resolution (called `scale` in GEE) and projection by resampling and reprojecting all data we are going to work with to a common projection.\n",
    "\n",
    "- Then, we have to filter the collection on the period of time we want. We can do that using the filterDate() method.\n",
    "\n",
    "- Then, we have to filter the collection on the period of time we want using the `filterDate()` methodand ` select()` method."
   ]
  },
  {
   "cell_type": "code",
   "execution_count": 5,
   "id": "a20b35d7",
   "metadata": {},
   "outputs": [],
   "source": [
    "# Initial date of interest (inclusive).\n",
    "i_date = '2017-01-01'\n",
    "\n",
    "# Final date of interest (exclusive).\n",
    "f_date = '2020-01-01'\n",
    "\n",
    "# Selection of appropriate bands and dates for LST.\n",
    "lst = lst.select('LST_Day_1km', 'QC_Day').filterDate(i_date, f_date)"
   ]
  },
  {
   "cell_type": "markdown",
   "id": "19b3f642",
   "metadata": {},
   "source": [
    "- **LST_DAY_1km**: Daytime Land Surface Temperature\n",
    "\n",
    "- **QC_Day** quality indicator"
   ]
  },
  {
   "cell_type": "markdown",
   "id": "10982264",
   "metadata": {},
   "source": [
    "**Define Area of Interst (AOI)**\n",
    "\n",
    "- define Itally as a country using longtiudeand latitude\n",
    "\n",
    "- Select two region in Itally for comapresion using longitude and latitude\n",
    "\n",
    "geting map of **Itally** also possble from [Natural Earth](https://www.naturalearthdata.com) by deploying `geopands`\n",
    "\n",
    "- Itally is located in the worlld map   with  \n",
    "\n",
    " > - latitude  =  41.8719° N, \n",
    " > - longitude = 12.5674° E"
   ]
  },
  {
   "cell_type": "code",
   "execution_count": 6,
   "id": "9868de24",
   "metadata": {},
   "outputs": [],
   "source": [
    "# Define Itally as AOI.\n",
    "it_lon = 12.5674\n",
    "it_lat = 41.871\n",
    "#define a point arround Ittaly\n",
    "it_poi = ee.Geometry.Point(it_lon, it_lat)"
   ]
  },
  {
   "cell_type": "markdown",
   "id": "1b2179c1",
   "metadata": {},
   "source": [
    "- Two important issues during LST determination\n",
    "\n",
    " > - correction factor 0.02 for kelvie `k` and \n",
    " > -  Conversion  to centigrade \n",
    " \n",
    "- Scale is noting insteds to show how one pixel stands for"
   ]
  },
  {
   "cell_type": "code",
   "execution_count": 7,
   "id": "4340e77c",
   "metadata": {},
   "outputs": [
    {
     "name": "stdout",
     "output_type": "stream",
     "text": [
      "Ground elevation of Itally: 49 m\n",
      "Average daytime LST of Italy is: 28.33 °C\n",
      "Land cover value of Italy is: 13\n"
     ]
    }
   ],
   "source": [
    "scale = 1000  # scale in meters\n",
    "\n",
    "# Print the elevation near Lyon, France.\n",
    "elv_it = elv.sample(it_poi, scale).first().get('elevation').getInfo()\n",
    "print('Ground elevation of Itally:', elv_it, 'm')\n",
    "\n",
    "# Calculate and print the mean value of the LST collection at the point.\n",
    "lst_it = lst.mean().sample(it_poi, scale).first().get('LST_Day_1km').getInfo()\n",
    "print('Average daytime LST of Italy is:', round(lst_it*0.02 -273.15, 2), '°C')\n",
    "\n",
    "# Print the land cover type at the point.\n",
    "lc_it = lc.first().sample(it_poi, scale).first().get('LC_Type1').getInfo()\n",
    "print('Land cover value of Italy is:', lc_it)"
   ]
  },
  {
   "cell_type": "markdown",
   "id": "08900e24",
   "metadata": {},
   "source": [
    "**Getting timeseries data**"
   ]
  },
  {
   "cell_type": "code",
   "execution_count": 8,
   "id": "54fafdcf",
   "metadata": {},
   "outputs": [
    {
     "data": {
      "text/plain": [
       "[['id', 'longitude', 'latitude', 'time', 'LST_Day_1km', 'QC_Day'],\n",
       " ['2017_01_01',\n",
       "  12.562939248411508,\n",
       "  41.874966969231494,\n",
       "  1483228800000,\n",
       "  14116,\n",
       "  81],\n",
       " ['2017_01_02',\n",
       "  12.562939248411508,\n",
       "  41.874966969231494,\n",
       "  1483315200000,\n",
       "  None,\n",
       "  2],\n",
       " ['2017_01_03',\n",
       "  12.562939248411508,\n",
       "  41.874966969231494,\n",
       "  1483401600000,\n",
       "  None,\n",
       "  2],\n",
       " ['2017_01_04',\n",
       "  12.562939248411508,\n",
       "  41.874966969231494,\n",
       "  1483488000000,\n",
       "  14167,\n",
       "  81]]"
      ]
     },
     "execution_count": 8,
     "metadata": {},
     "output_type": "execute_result"
    }
   ],
   "source": [
    "# Get the data for the pixel intersecting the point in urban area.\n",
    "lst_it = lst.getRegion(it_poi, scale).getInfo()\n",
    "\n",
    "\n",
    "# Preview the result.\n",
    "lst_it[:5]"
   ]
  },
  {
   "cell_type": "markdown",
   "id": "e5612ac1",
   "metadata": {},
   "source": [
    "- lets have dataframe of list"
   ]
  },
  {
   "cell_type": "code",
   "execution_count": 9,
   "id": "cb727a0d",
   "metadata": {},
   "outputs": [
    {
     "data": {
      "text/html": [
       "<div>\n",
       "<style scoped>\n",
       "    .dataframe tbody tr th:only-of-type {\n",
       "        vertical-align: middle;\n",
       "    }\n",
       "\n",
       "    .dataframe tbody tr th {\n",
       "        vertical-align: top;\n",
       "    }\n",
       "\n",
       "    .dataframe thead th {\n",
       "        text-align: right;\n",
       "    }\n",
       "</style>\n",
       "<table border=\"1\" class=\"dataframe\">\n",
       "  <thead>\n",
       "    <tr style=\"text-align: right;\">\n",
       "      <th></th>\n",
       "      <th>id</th>\n",
       "      <th>longitude</th>\n",
       "      <th>latitude</th>\n",
       "      <th>time</th>\n",
       "      <th>LST_Day_1km</th>\n",
       "      <th>QC_Day</th>\n",
       "    </tr>\n",
       "  </thead>\n",
       "  <tbody>\n",
       "    <tr>\n",
       "      <th>0</th>\n",
       "      <td>2017_01_01</td>\n",
       "      <td>12.562939</td>\n",
       "      <td>41.874967</td>\n",
       "      <td>1483228800000</td>\n",
       "      <td>14116</td>\n",
       "      <td>81</td>\n",
       "    </tr>\n",
       "    <tr>\n",
       "      <th>1</th>\n",
       "      <td>2017_01_02</td>\n",
       "      <td>12.562939</td>\n",
       "      <td>41.874967</td>\n",
       "      <td>1483315200000</td>\n",
       "      <td>None</td>\n",
       "      <td>2</td>\n",
       "    </tr>\n",
       "    <tr>\n",
       "      <th>2</th>\n",
       "      <td>2017_01_03</td>\n",
       "      <td>12.562939</td>\n",
       "      <td>41.874967</td>\n",
       "      <td>1483401600000</td>\n",
       "      <td>None</td>\n",
       "      <td>2</td>\n",
       "    </tr>\n",
       "    <tr>\n",
       "      <th>3</th>\n",
       "      <td>2017_01_04</td>\n",
       "      <td>12.562939</td>\n",
       "      <td>41.874967</td>\n",
       "      <td>1483488000000</td>\n",
       "      <td>14167</td>\n",
       "      <td>81</td>\n",
       "    </tr>\n",
       "    <tr>\n",
       "      <th>4</th>\n",
       "      <td>2017_01_05</td>\n",
       "      <td>12.562939</td>\n",
       "      <td>41.874967</td>\n",
       "      <td>1483574400000</td>\n",
       "      <td>14127</td>\n",
       "      <td>81</td>\n",
       "    </tr>\n",
       "  </tbody>\n",
       "</table>\n",
       "</div>"
      ],
      "text/plain": [
       "0          id  longitude   latitude           time LST_Day_1km QC_Day\n",
       "0  2017_01_01  12.562939  41.874967  1483228800000       14116     81\n",
       "1  2017_01_02  12.562939  41.874967  1483315200000        None      2\n",
       "2  2017_01_03  12.562939  41.874967  1483401600000        None      2\n",
       "3  2017_01_04  12.562939  41.874967  1483488000000       14167     81\n",
       "4  2017_01_05  12.562939  41.874967  1483574400000       14127     81"
      ]
     },
     "execution_count": 9,
     "metadata": {},
     "output_type": "execute_result"
    }
   ],
   "source": [
    "import pandas as pd\n",
    "df =pd.DataFrame(lst_it)\n",
    "# redefine headers\n",
    "headers = df.iloc[0]\n",
    "df  = pd.DataFrame(df.values[1:], columns=headers)\n",
    "df.head()"
   ]
  },
  {
   "cell_type": "markdown",
   "id": "2ad4a31e",
   "metadata": {},
   "source": [
    "- see several `None` values appear in the **LST_Day_1km column**. \n",
    "\n",
    "- The associated quality indicator **QC_Day** indicates a value of 2 meaning that the `LST` is not calculated because of cloud effects.\n",
    "\n",
    "- while We redefine a function to transform this array into a pandas Dataframe  below  algorithm  for dataframe  is much more convenient to manipulate."
   ]
  },
  {
   "cell_type": "code",
   "execution_count": 10,
   "id": "d0ba0f80",
   "metadata": {},
   "outputs": [],
   "source": [
    "import pandas as pd\n",
    "\n",
    "def ee_array_to_df(arr, list_of_bands):\n",
    "    \"\"\"Transforms client-side ee.Image.getRegion array to pandas.DataFrame.\"\"\"\n",
    "    df = pd.DataFrame(arr)\n",
    "\n",
    "    # Rearrange the header.\n",
    "    headers = df.iloc[0]\n",
    "    df = pd.DataFrame(df.values[1:], columns=headers)\n",
    "\n",
    "    # Remove rows without data inside.\n",
    "    df = df[['longitude', 'latitude', 'time', *list_of_bands]].dropna()\n",
    "\n",
    "    # Convert the data to numeric values.\n",
    "    for band in list_of_bands:\n",
    "        df[band] = pd.to_numeric(df[band], errors='coerce')\n",
    "\n",
    "    # Convert the time field into a datetime.\n",
    "    df['datetime'] = pd.to_datetime(df['time'], unit='ms')\n",
    "\n",
    "    # Keep the columns of interest.\n",
    "    df = df[['time','datetime',  *list_of_bands]]\n",
    "\n",
    "    return df"
   ]
  },
  {
   "cell_type": "code",
   "execution_count": 11,
   "id": "503a9245",
   "metadata": {},
   "outputs": [
    {
     "data": {
      "text/html": [
       "<div>\n",
       "<style scoped>\n",
       "    .dataframe tbody tr th:only-of-type {\n",
       "        vertical-align: middle;\n",
       "    }\n",
       "\n",
       "    .dataframe tbody tr th {\n",
       "        vertical-align: top;\n",
       "    }\n",
       "\n",
       "    .dataframe thead th {\n",
       "        text-align: right;\n",
       "    }\n",
       "</style>\n",
       "<table border=\"1\" class=\"dataframe\">\n",
       "  <thead>\n",
       "    <tr style=\"text-align: right;\">\n",
       "      <th></th>\n",
       "      <th>time</th>\n",
       "      <th>datetime</th>\n",
       "      <th>LST_Day_1km</th>\n",
       "    </tr>\n",
       "  </thead>\n",
       "  <tbody>\n",
       "    <tr>\n",
       "      <th>0</th>\n",
       "      <td>1483228800000</td>\n",
       "      <td>2017-01-01</td>\n",
       "      <td>9.17</td>\n",
       "    </tr>\n",
       "    <tr>\n",
       "      <th>3</th>\n",
       "      <td>1483488000000</td>\n",
       "      <td>2017-01-04</td>\n",
       "      <td>10.19</td>\n",
       "    </tr>\n",
       "    <tr>\n",
       "      <th>4</th>\n",
       "      <td>1483574400000</td>\n",
       "      <td>2017-01-05</td>\n",
       "      <td>9.39</td>\n",
       "    </tr>\n",
       "    <tr>\n",
       "      <th>5</th>\n",
       "      <td>1483660800000</td>\n",
       "      <td>2017-01-06</td>\n",
       "      <td>4.49</td>\n",
       "    </tr>\n",
       "    <tr>\n",
       "      <th>6</th>\n",
       "      <td>1483747200000</td>\n",
       "      <td>2017-01-07</td>\n",
       "      <td>3.53</td>\n",
       "    </tr>\n",
       "  </tbody>\n",
       "</table>\n",
       "</div>"
      ],
      "text/plain": [
       "0           time   datetime  LST_Day_1km\n",
       "0  1483228800000 2017-01-01         9.17\n",
       "3  1483488000000 2017-01-04        10.19\n",
       "4  1483574400000 2017-01-05         9.39\n",
       "5  1483660800000 2017-01-06         4.49\n",
       "6  1483747200000 2017-01-07         3.53"
      ]
     },
     "execution_count": 11,
     "metadata": {},
     "output_type": "execute_result"
    }
   ],
   "source": [
    "lst_df_it = ee_array_to_df(lst_it,['LST_Day_1km'])\n",
    "\n",
    "def t_modis_to_celsius(t_modis):\n",
    "    \"\"\"Converts MODIS LST units to degrees Celsius.\"\"\"\n",
    "    t_celsius =  0.02*t_modis - 273.15\n",
    "    return t_celsius\n",
    "\n",
    "# Apply the function to get temperature in celsius.\n",
    "lst_df_it['LST_Day_1km'] = lst_df_it['LST_Day_1km'].apply(t_modis_to_celsius)\n",
    "\n",
    "lst_df_it.head()"
   ]
  },
  {
   "attachments": {
    "image.png": {
     "image/png": "[encoded data removed]"
    }
   },
   "cell_type": "markdown",
   "id": "359b04b3",
   "metadata": {},
   "source": [
    "- Expect that LST has a seasonality influence in our ROI,the sinusoidal trend described by Stallman (1965):\n",
    "![image.png](attachment:image.png)"
   ]
  },
  {
   "cell_type": "code",
   "execution_count": 12,
   "id": "1cf24d71",
   "metadata": {},
   "outputs": [
    {
     "data": {
      "image/png": "[encoded data removed]",
      "text/plain": [
       "<Figure size 1400x600 with 1 Axes>"
      ]
     },
     "metadata": {},
     "output_type": "display_data"
    }
   ],
   "source": [
    "import matplotlib.pyplot as plt\n",
    "import numpy as np\n",
    "from scipy import optimize\n",
    "%matplotlib inline\n",
    "\n",
    "# Fitting curves.\n",
    "## First, extract x values (times) from the dfs.\n",
    "x_data_it = np.asanyarray(lst_df_it['time'].apply(float))  \n",
    "\n",
    "## Secondly, extract y values (LST) from the dfs.\n",
    "y_data_it = np.asanyarray(lst_df_it['LST_Day_1km'].apply(float)) \n",
    "\n",
    "\n",
    "## Then, define the fitting function with parameters.\n",
    "def fit_func(t, lst0, delta_lst, tau, phi):\n",
    "    return lst0 + (delta_lst/2)*np.sin(2*np.pi*t/tau + phi)\n",
    "\n",
    "## Optimize the parameters using a good start p0.\n",
    "lst0 = 20\n",
    "delta_lst = 40\n",
    "tau = 365*24*3600*1000   # milliseconds in a year\n",
    "phi = 2*np.pi*4*30.5*3600*1000/tau  # offset regarding when we expect LST(t)=LST0\n",
    "\n",
    "params_u, params_covariance_u = optimize.curve_fit(\n",
    "    fit_func, x_data_it, y_data_it, p0=[lst0, delta_lst, tau, phi])\n",
    "\n",
    "# Subplots.\n",
    "fig, ax = plt.subplots(figsize=(14, 6))\n",
    "\n",
    "# Add scatter plots.\n",
    "ax.scatter(lst_df_it['datetime'], lst_df_it['LST_Day_1km'],\n",
    "           c='black', alpha=0.2, label='Italy (data)')\n",
    "# Add fitting curves.\n",
    "ax.plot(lst_df_it['datetime'],\n",
    "        fit_func(x_data_it, params_u[0], params_u[1], params_u[2], params_u[3]),\n",
    "        label='Italy (fitted)', color='black', lw=2.5)\n",
    "\n",
    "\n",
    "# Add some parameters.\n",
    "ax.set_title('Daytime Land Surface Temperature of Italy', fontsize=16)\n",
    "ax.set_xlabel('Date', fontsize=14)\n",
    "ax.set_ylabel('Temperature [C]', fontsize=14)\n",
    "ax.set_ylim(-0, 40)\n",
    "ax.grid(lw=0.2)\n",
    "ax.legend(fontsize=14, loc='lower right')\n",
    "\n",
    "plt.show()"
   ]
  },
  {
   "cell_type": "markdown",
   "id": "3d9b549f",
   "metadata": {},
   "source": [
    "- Lets convert the **LST** `ee.ImageCollection` into an `ee.Image`, and value of `pixels` into `Celsius`\n",
    "\n",
    "- Then use the `getThumbUrl()` method to get a `URL` and we can use the IPython library to display the mean daytime `LST` map for Itally as ROI. \n",
    "\n",
    "- **Blue** represents the **coldest areas** (< 10°C) and\n",
    "\n",
    "- **Red** represents the **warmest areas** (> 30°C) "
   ]
  },
  {
   "cell_type": "code",
   "execution_count": 13,
   "id": "8eada125",
   "metadata": {},
   "outputs": [],
   "source": [
    "# Reduce the LST collection by mean.\n",
    "lst_img = lst.mean()\n",
    "\n",
    "# Adjust for scale factor.\n",
    "lst_img = lst_img.select('LST_Day_1km').multiply(0.02)\n",
    "\n",
    "# Convert Kelvin to Celsius.\n",
    "lst_img = lst_img.select('LST_Day_1km').add(-273.15)"
   ]
  },
  {
   "cell_type": "code",
   "execution_count": 14,
   "id": "d3f76483",
   "metadata": {},
   "outputs": [
    {
     "name": "stdout",
     "output_type": "stream",
     "text": [
      "https://earthengine.googleapis.com/v1alpha/projects/earthengine-legacy/thumbnails/3c93040fbfd0955caad7f736cb945191-eba156cafd4472bfcb5cba132aec9ed1:getPixels\n",
      "\n",
      "Please wait while the thumbnail loads, it may take a moment...\n"
     ]
    },
    {
     "data": {
      "text/html": [
       "<img src=\"https://earthengine.googleapis.com/v1alpha/projects/earthengine-legacy/thumbnails/3c93040fbfd0955caad7f736cb945191-eba156cafd4472bfcb5cba132aec9ed1:getPixels\"/>"
      ],
      "text/plain": [
       "<IPython.core.display.Image object>"
      ]
     },
     "execution_count": 14,
     "metadata": {},
     "output_type": "execute_result"
    }
   ],
   "source": [
    "from IPython.display import Image\n",
    "# Define a region of interest with a buffer zone of 1000 km around .\n",
    "roi = it_poi.buffer(1e6)\n",
    "\n",
    "# Create a URL to the styled image for a region around France.\n",
    "url = lst_img.getThumbUrl({\n",
    "    'min': 10, 'max': 30, 'dimensions': 512, 'region': roi,\n",
    "    'palette': ['blue', 'yellow', 'orange', 'red']})\n",
    "print(url)\n",
    "\n",
    "# Display the thumbnail land surface temperature in France.\n",
    "print('\\nPlease wait while the thumbnail loads, it may take a moment...')\n",
    "Image(url=url)"
   ]
  },
  {
   "attachments": {
    "image.png": {
     "image/png": "[encoded data removed]"
    }
   },
   "cell_type": "markdown",
   "id": "c3fb122c",
   "metadata": {},
   "source": [
    "- clickink the link abve gives\n",
    "![image.png](attachment:image.png)"
   ]
  },
  {
   "cell_type": "markdown",
   "id": "447243f4",
   "metadata": {},
   "source": [
    " - Do the same for ground elevation:"
   ]
  },
  {
   "cell_type": "code",
   "execution_count": 15,
   "id": "557beb0c",
   "metadata": {},
   "outputs": [
    {
     "data": {
      "text/html": [
       "<img src=\"https://earthengine.googleapis.com/v1alpha/projects/earthengine-legacy/thumbnails/543e32ab18762c411eb377667e9a6a04-98170e2ef2ffaf1769d556c2d524ec42:getPixels\"/>"
      ],
      "text/plain": [
       "<IPython.core.display.Image object>"
      ]
     },
     "execution_count": 15,
     "metadata": {},
     "output_type": "execute_result"
    }
   ],
   "source": [
    "# Make pixels with elevation below sea level transparent.\n",
    "elv_img = elv.updateMask(elv.gt(0))\n",
    "\n",
    "# Display the thumbnail of styled elevation in France.\n",
    "Image(url=elv_img.getThumbURL({\n",
    "    'min': 0, 'max': 2000, 'dimensions': 512, 'region': roi,\n",
    "    'palette': ['006633', 'E5FFCC', '662A00', 'D8D8D8', 'F5F5F5']}))"
   ]
  },
  {
   "cell_type": "markdown",
   "id": "d0a2e2b1",
   "metadata": {},
   "source": [
    "Of course you may want to have a closer look around a specific part of the map. \n",
    "\n",
    "So let's define another region (a buffer zone around Italy), adjust the min/max scale and display:"
   ]
  },
  {
   "cell_type": "code",
   "execution_count": 16,
   "id": "f9d17ce5",
   "metadata": {},
   "outputs": [
    {
     "data": {
      "text/html": [
       "<img src=\"https://earthengine.googleapis.com/v1alpha/projects/earthengine-legacy/thumbnails/33bac327daf7def1332d7bdd23ab3a59-d04938b427e2f508121187734477e5cb:getPixels\"/>"
      ],
      "text/plain": [
       "<IPython.core.display.Image object>"
      ]
     },
     "execution_count": 16,
     "metadata": {},
     "output_type": "execute_result"
    }
   ],
   "source": [
    "# Create a buffer zone of 10 km around Lyon.\n",
    "italy = it_poi.buffer(10000)  # meters\n",
    "\n",
    "url = elv_img.getThumbUrl({\n",
    "    'min': 150, 'max': 350, 'region': italy, 'dimensions': 512,\n",
    "    'palette': ['006633', 'E5FFCC', '662A00', 'D8D8D8', 'F5F5F5']})\n",
    "Image(url=url)"
   ]
  },
  {
   "cell_type": "code",
   "execution_count": 17,
   "id": "fe27cd6e",
   "metadata": {},
   "outputs": [
    {
     "data": {
      "text/html": [
       "<img src=\"https://earthengine.googleapis.com/v1alpha/projects/earthengine-legacy/thumbnails/54b1570b063b4780abbfe7fed2da9a83-5aba3c90f773c295acd9b0b007bc3f53:getPixels\"/>"
      ],
      "text/plain": [
       "<IPython.core.display.Image object>"
      ]
     },
     "execution_count": 17,
     "metadata": {},
     "output_type": "execute_result"
    }
   ],
   "source": [
    "# Get a feature collection of administrative boundaries.\n",
    "countries = ee.FeatureCollection('FAO/GAUL/2015/level0').select('ADM0_NAME')\n",
    "\n",
    "# Filter the feature collection to subset France.\n",
    "italy = countries.filter(ee.Filter.eq('ADM0_NAME', 'Italy'))\n",
    "\n",
    "# Clip the image by France.\n",
    "elv_fr = elv_img.clip(italy)\n",
    "\n",
    "# Create the URL associated with the styled image data.\n",
    "url = elv_fr.getThumbUrl({\n",
    "    'min': 0, 'max': 2500, 'region': roi, 'dimensions': 512,\n",
    "    'palette': ['006633', 'E5FFCC', '662A00', 'D8D8D8', 'F5F5F5']})\n",
    "\n",
    "# Display a thumbnail of elevation in Itally.\n",
    "Image(url=url)"
   ]
  },
  {
   "cell_type": "markdown",
   "id": "d749d823",
   "metadata": {},
   "source": [
    "**Export a GeoTIFF file**\n",
    "\n",
    "- We may need to export a resulting `ee.Image to a GeoTIFF`\n",
    "\n",
    "- let us save it on google drive with\n",
    "\n",
    " > - size of pixels = 30m\n",
    " > - projection:  `EPSG:4326`\n",
    " >-file format: `GeoTIFF`\n",
    " >-"
   ]
  },
  {
   "cell_type": "code",
   "execution_count": 18,
   "id": "9cc04208",
   "metadata": {},
   "outputs": [],
   "source": [
    "task = ee.batch.Export.image.toDrive(image=elv_img,\n",
    "                                     description='elevation_italy',\n",
    "                                     scale=30,\n",
    "                                     region=italy,\n",
    "                                     fileNamePrefix='my_export_italy',\n",
    "                                     crs='EPSG:4326',\n",
    "                                     fileFormat='GeoTIFF')\n",
    "task.start()"
   ]
  },
  {
   "cell_type": "code",
   "execution_count": 19,
   "id": "aa78fa9e",
   "metadata": {},
   "outputs": [
    {
     "data": {
      "text/plain": [
       "{'state': 'READY',\n",
       " 'description': 'elevation_italy',\n",
       " 'creation_timestamp_ms': 1665374470513,\n",
       " 'update_timestamp_ms': 1665374470513,\n",
       " 'start_timestamp_ms': 0,\n",
       " 'task_type': 'EXPORT_IMAGE',\n",
       " 'id': 'BZTY7RGFIYQZHYHSHGIL3QMK',\n",
       " 'name': 'projects/earthengine-legacy/operations/BZTY7RGFIYQZHYHSHGIL3QMK'}"
      ]
     },
     "execution_count": 19,
     "metadata": {},
     "output_type": "execute_result"
    }
   ],
   "source": [
    "task.status()"
   ]
  },
  {
   "cell_type": "markdown",
   "id": "be7a99ca",
   "metadata": {},
   "source": [
    "**Interactive mapping using folium**\n",
    "\n",
    "- Folium is a python library based on leaflet.js (open-source JavaScript library for mobile-friendly interactive maps"
   ]
  },
  {
   "cell_type": "code",
   "execution_count": 20,
   "id": "490f666c",
   "metadata": {},
   "outputs": [
    {
     "data": {
      "text/html": [
       "<div style=\"width:100%;\"><div style=\"position:relative;width:100%;height:0;padding-bottom:60%;\"><span style=\"color:#565656\">Make this Notebook Trusted to load map: File -> Trust Notebook</span><iframe srcdoc=\"&lt;!DOCTYPE html&gt;\n",
       "&lt;head&gt;    \n",
       "    &lt;meta http-equiv=&quot;content-type&quot; content=&quot;text/html; charset=UTF-8&quot; /&gt;\n",
       "    \n",
       "        &lt;script&gt;\n",
       "            L_NO_TOUCH = false;\n",
       "            L_DISABLE_3D = false;\n",
       "        &lt;/script&gt;\n",
       "    \n",
       "    &lt;style&gt;html, body {width: 100%;height: 100%;margin: 0;padding: 0;}&lt;/style&gt;\n",
       "    &lt;style&gt;#map {position:absolute;top:0;bottom:0;right:0;left:0;}&lt;/style&gt;\n",
       "    &lt;script src=&quot;https://cdn.jsdelivr.net/npm/leaflet@1.6.0/dist/leaflet.js&quot;&gt;&lt;/script&gt;\n",
       "    &lt;script src=&quot;https://code.jquery.com/jquery-1.12.4.min.js&quot;&gt;&lt;/script&gt;\n",
       "    &lt;script src=&quot;https://maxcdn.bootstrapcdn.com/bootstrap/3.2.0/js/bootstrap.min.js&quot;&gt;&lt;/script&gt;\n",
       "    &lt;script src=&quot;https://cdnjs.cloudflare.com/ajax/libs/Leaflet.awesome-markers/2.0.2/leaflet.awesome-markers.js&quot;&gt;&lt;/script&gt;\n",
       "    &lt;link rel=&quot;stylesheet&quot; href=&quot;https://cdn.jsdelivr.net/npm/leaflet@1.6.0/dist/leaflet.css&quot;/&gt;\n",
       "    &lt;link rel=&quot;stylesheet&quot; href=&quot;https://maxcdn.bootstrapcdn.com/bootstrap/3.2.0/css/bootstrap.min.css&quot;/&gt;\n",
       "    &lt;link rel=&quot;stylesheet&quot; href=&quot;https://maxcdn.bootstrapcdn.com/bootstrap/3.2.0/css/bootstrap-theme.min.css&quot;/&gt;\n",
       "    &lt;link rel=&quot;stylesheet&quot; href=&quot;https://maxcdn.bootstrapcdn.com/font-awesome/4.6.3/css/font-awesome.min.css&quot;/&gt;\n",
       "    &lt;link rel=&quot;stylesheet&quot; href=&quot;https://cdnjs.cloudflare.com/ajax/libs/Leaflet.awesome-markers/2.0.2/leaflet.awesome-markers.css&quot;/&gt;\n",
       "    &lt;link rel=&quot;stylesheet&quot; href=&quot;https://cdn.jsdelivr.net/gh/python-visualization/folium/folium/templates/leaflet.awesome.rotate.min.css&quot;/&gt;\n",
       "    \n",
       "            &lt;meta name=&quot;viewport&quot; content=&quot;width=device-width,\n",
       "                initial-scale=1.0, maximum-scale=1.0, user-scalable=no&quot; /&gt;\n",
       "            &lt;style&gt;\n",
       "                #map_70885e2437eae643e17b044f4cd0e9f9 {\n",
       "                    position: relative;\n",
       "                    width: 100.0%;\n",
       "                    height: 100.0%;\n",
       "                    left: 0.0%;\n",
       "                    top: 0.0%;\n",
       "                }\n",
       "            &lt;/style&gt;\n",
       "        \n",
       "&lt;/head&gt;\n",
       "&lt;body&gt;    \n",
       "    \n",
       "            &lt;div class=&quot;folium-map&quot; id=&quot;map_70885e2437eae643e17b044f4cd0e9f9&quot; &gt;&lt;/div&gt;\n",
       "        \n",
       "&lt;/body&gt;\n",
       "&lt;script&gt;    \n",
       "    \n",
       "            var map_70885e2437eae643e17b044f4cd0e9f9 = L.map(\n",
       "                &quot;map_70885e2437eae643e17b044f4cd0e9f9&quot;,\n",
       "                {\n",
       "                    center: [41.871, 12.5674],\n",
       "                    crs: L.CRS.EPSG3857,\n",
       "                    zoom: 5,\n",
       "                    zoomControl: true,\n",
       "                    preferCanvas: false,\n",
       "                }\n",
       "            );\n",
       "\n",
       "            \n",
       "\n",
       "        \n",
       "    \n",
       "            var tile_layer_133475b229662fbfa2ab66ceed1ba64f = L.tileLayer(\n",
       "                &quot;https://{s}.tile.openstreetmap.org/{z}/{x}/{y}.png&quot;,\n",
       "                {&quot;attribution&quot;: &quot;Data by \\u0026copy; \\u003ca href=\\&quot;http://openstreetmap.org\\&quot;\\u003eOpenStreetMap\\u003c/a\\u003e, under \\u003ca href=\\&quot;http://www.openstreetmap.org/copyright\\&quot;\\u003eODbL\\u003c/a\\u003e.&quot;, &quot;detectRetina&quot;: false, &quot;maxNativeZoom&quot;: 18, &quot;maxZoom&quot;: 18, &quot;minZoom&quot;: 0, &quot;noWrap&quot;: false, &quot;opacity&quot;: 1, &quot;subdomains&quot;: &quot;abc&quot;, &quot;tms&quot;: false}\n",
       "            ).addTo(map_70885e2437eae643e17b044f4cd0e9f9);\n",
       "        \n",
       "&lt;/script&gt;\" style=\"position:absolute;width:100%;height:100%;left:0;top:0;border:none !important;\" allowfullscreen webkitallowfullscreen mozallowfullscreen></iframe></div></div>"
      ],
      "text/plain": [
       "<folium.folium.Map at 0x1e4d047af40>"
      ]
     },
     "execution_count": 20,
     "metadata": {},
     "output_type": "execute_result"
    }
   ],
   "source": [
    "import folium\n",
    "\n",
    "# Define the center of our map.\n",
    "it_lon = 12.5674\n",
    "it_lat = 41.871\n",
    "\n",
    "my_map = folium.Map(location=[it_lat, it_lon], zoom_start=5)\n",
    "my_map"
   ]
  },
  {
   "cell_type": "markdown",
   "id": "e853d68c",
   "metadata": {},
   "source": [
    "On top of this map, we now want to add the GEE layers we studied before: \n",
    "\n",
    "- land cover (LC), \n",
    "\n",
    "- land surface temperature (LST) and \n",
    "\n",
    "-  ground elevation model (ELV).\n",
    "\n",
    "For each GEE dataset, the process consists of adding a new tile layer to our map with specified visualization parameters. Let's define a new method for handing Earth Engine tiles and using it to display an elevation model to a Leaflet map."
   ]
  },
  {
   "cell_type": "code",
   "execution_count": 21,
   "id": "660165c4",
   "metadata": {},
   "outputs": [],
   "source": [
    "def add_ee_layer(self, ee_image_object, vis_params, name):\n",
    "    \"\"\"Adds a method for displaying Earth Engine image tiles to folium map.\"\"\"\n",
    "    map_id_dict = ee.Image(ee_image_object).getMapId(vis_params)\n",
    "    folium.raster_layers.TileLayer(\n",
    "        tiles=map_id_dict['tile_fetcher'].url_format,\n",
    "        attr='Map Data &copy; <a href=\"https://earthengine.google.com/\">Google Earth Engine</a>',\n",
    "        name=name,\n",
    "        overlay=True,\n",
    "        control=True\n",
    "    ).add_to(self)\n",
    "\n",
    "# Add Earth Engine drawing method to folium.\n",
    "folium.Map.add_ee_layer = add_ee_layer"
   ]
  },
  {
   "cell_type": "markdown",
   "id": "839b4884",
   "metadata": {},
   "source": [
    "**common LC classes**\n",
    "\n",
    "- water bodies are **blue**,\n",
    "\n",
    "- urban areas are **grey**, \n",
    "\n",
    "- forests are **green**"
   ]
  },
  {
   "cell_type": "code",
   "execution_count": 22,
   "id": "7715cd7f",
   "metadata": {},
   "outputs": [
    {
     "data": {
      "text/html": [
       "<div style=\"width:100%;\"><div style=\"position:relative;width:100%;height:0;padding-bottom:60%;\"><span style=\"color:#565656\">Make this Notebook Trusted to load map: File -> Trust Notebook</span><iframe srcdoc=\"&lt;!DOCTYPE html&gt;\n",
       "&lt;head&gt;    \n",
       "    &lt;meta http-equiv=&quot;content-type&quot; content=&quot;text/html; charset=UTF-8&quot; /&gt;\n",
       "    \n",
       "        &lt;script&gt;\n",
       "            L_NO_TOUCH = false;\n",
       "            L_DISABLE_3D = false;\n",
       "        &lt;/script&gt;\n",
       "    \n",
       "    &lt;style&gt;html, body {width: 100%;height: 100%;margin: 0;padding: 0;}&lt;/style&gt;\n",
       "    &lt;style&gt;#map {position:absolute;top:0;bottom:0;right:0;left:0;}&lt;/style&gt;\n",
       "    &lt;script src=&quot;https://cdn.jsdelivr.net/npm/leaflet@1.6.0/dist/leaflet.js&quot;&gt;&lt;/script&gt;\n",
       "    &lt;script src=&quot;https://code.jquery.com/jquery-1.12.4.min.js&quot;&gt;&lt;/script&gt;\n",
       "    &lt;script src=&quot;https://maxcdn.bootstrapcdn.com/bootstrap/3.2.0/js/bootstrap.min.js&quot;&gt;&lt;/script&gt;\n",
       "    &lt;script src=&quot;https://cdnjs.cloudflare.com/ajax/libs/Leaflet.awesome-markers/2.0.2/leaflet.awesome-markers.js&quot;&gt;&lt;/script&gt;\n",
       "    &lt;link rel=&quot;stylesheet&quot; href=&quot;https://cdn.jsdelivr.net/npm/leaflet@1.6.0/dist/leaflet.css&quot;/&gt;\n",
       "    &lt;link rel=&quot;stylesheet&quot; href=&quot;https://maxcdn.bootstrapcdn.com/bootstrap/3.2.0/css/bootstrap.min.css&quot;/&gt;\n",
       "    &lt;link rel=&quot;stylesheet&quot; href=&quot;https://maxcdn.bootstrapcdn.com/bootstrap/3.2.0/css/bootstrap-theme.min.css&quot;/&gt;\n",
       "    &lt;link rel=&quot;stylesheet&quot; href=&quot;https://maxcdn.bootstrapcdn.com/font-awesome/4.6.3/css/font-awesome.min.css&quot;/&gt;\n",
       "    &lt;link rel=&quot;stylesheet&quot; href=&quot;https://cdnjs.cloudflare.com/ajax/libs/Leaflet.awesome-markers/2.0.2/leaflet.awesome-markers.css&quot;/&gt;\n",
       "    &lt;link rel=&quot;stylesheet&quot; href=&quot;https://cdn.jsdelivr.net/gh/python-visualization/folium/folium/templates/leaflet.awesome.rotate.min.css&quot;/&gt;\n",
       "    \n",
       "            &lt;meta name=&quot;viewport&quot; content=&quot;width=device-width,\n",
       "                initial-scale=1.0, maximum-scale=1.0, user-scalable=no&quot; /&gt;\n",
       "            &lt;style&gt;\n",
       "                #map_9174f8c94f7905642077683324015ed8 {\n",
       "                    position: relative;\n",
       "                    width: 100.0%;\n",
       "                    height: 100.0%;\n",
       "                    left: 0.0%;\n",
       "                    top: 0.0%;\n",
       "                }\n",
       "            &lt;/style&gt;\n",
       "        \n",
       "&lt;/head&gt;\n",
       "&lt;body&gt;    \n",
       "    \n",
       "            &lt;div class=&quot;folium-map&quot; id=&quot;map_9174f8c94f7905642077683324015ed8&quot; &gt;&lt;/div&gt;\n",
       "        \n",
       "&lt;/body&gt;\n",
       "&lt;script&gt;    \n",
       "    \n",
       "            var map_9174f8c94f7905642077683324015ed8 = L.map(\n",
       "                &quot;map_9174f8c94f7905642077683324015ed8&quot;,\n",
       "                {\n",
       "                    center: [41.871, 12.5674],\n",
       "                    crs: L.CRS.EPSG3857,\n",
       "                    zoom: 7,\n",
       "                    zoomControl: true,\n",
       "                    preferCanvas: false,\n",
       "                }\n",
       "            );\n",
       "\n",
       "            \n",
       "\n",
       "        \n",
       "    \n",
       "            var tile_layer_a750e71bdee8fc584ac76dd6e437e4e9 = L.tileLayer(\n",
       "                &quot;https://{s}.tile.openstreetmap.org/{z}/{x}/{y}.png&quot;,\n",
       "                {&quot;attribution&quot;: &quot;Data by \\u0026copy; \\u003ca href=\\&quot;http://openstreetmap.org\\&quot;\\u003eOpenStreetMap\\u003c/a\\u003e, under \\u003ca href=\\&quot;http://www.openstreetmap.org/copyright\\&quot;\\u003eODbL\\u003c/a\\u003e.&quot;, &quot;detectRetina&quot;: false, &quot;maxNativeZoom&quot;: 18, &quot;maxZoom&quot;: 18, &quot;minZoom&quot;: 0, &quot;noWrap&quot;: false, &quot;opacity&quot;: 1, &quot;subdomains&quot;: &quot;abc&quot;, &quot;tms&quot;: false}\n",
       "            ).addTo(map_9174f8c94f7905642077683324015ed8);\n",
       "        \n",
       "    \n",
       "            var tile_layer_3a056f8ab507e636d722029d4b8f1de0 = L.tileLayer(\n",
       "                &quot;https://earthengine.googleapis.com/v1alpha/projects/earthengine-legacy/maps/b45c90e7620236ad229e44b388a25422-c35c2b23741abf7687ce21efbb31447c/tiles/{z}/{x}/{y}&quot;,\n",
       "                {&quot;attribution&quot;: &quot;Map Data \\u0026copy; \\u003ca href=\\&quot;https://earthengine.google.com/\\&quot;\\u003eGoogle Earth Engine\\u003c/a\\u003e&quot;, &quot;detectRetina&quot;: false, &quot;maxNativeZoom&quot;: 18, &quot;maxZoom&quot;: 18, &quot;minZoom&quot;: 0, &quot;noWrap&quot;: false, &quot;opacity&quot;: 1, &quot;subdomains&quot;: &quot;abc&quot;, &quot;tms&quot;: false}\n",
       "            ).addTo(map_9174f8c94f7905642077683324015ed8);\n",
       "        \n",
       "    \n",
       "            var layer_control_3b120ee659f22ab6e355dc55f428a13d = {\n",
       "                base_layers : {\n",
       "                    &quot;openstreetmap&quot; : tile_layer_a750e71bdee8fc584ac76dd6e437e4e9,\n",
       "                },\n",
       "                overlays :  {\n",
       "                    &quot;Land Cover&quot; : tile_layer_3a056f8ab507e636d722029d4b8f1de0,\n",
       "                },\n",
       "            };\n",
       "            L.control.layers(\n",
       "                layer_control_3b120ee659f22ab6e355dc55f428a13d.base_layers,\n",
       "                layer_control_3b120ee659f22ab6e355dc55f428a13d.overlays,\n",
       "                {&quot;autoZIndex&quot;: true, &quot;collapsed&quot;: true, &quot;position&quot;: &quot;topright&quot;}\n",
       "            ).addTo(map_9174f8c94f7905642077683324015ed8);\n",
       "        \n",
       "&lt;/script&gt;\" style=\"position:absolute;width:100%;height:100%;left:0;top:0;border:none !important;\" allowfullscreen webkitallowfullscreen mozallowfullscreen></iframe></div></div>"
      ],
      "text/plain": [
       "<folium.folium.Map at 0x1e4d3cb1c70>"
      ]
     },
     "metadata": {},
     "output_type": "display_data"
    }
   ],
   "source": [
    "# Select a specific band and dates for land cover.\n",
    "lc_img = lc.select('LC_Type1').filterDate(i_date).first()\n",
    "\n",
    "# Set visualization parameters for land cover.\n",
    "lc_vis_params = {\n",
    "    'min': 1,'max': 17,\n",
    "    'palette': ['05450a','086a10', '54a708', '78d203', '009900', 'c6b044',\n",
    "                'dcd159', 'dade48', 'fbff13', 'b6ff05', '27ff87', 'c24f44',\n",
    "                'a5a5a5', 'ff6d4c', '69fff8', 'f9ffa4', '1c0dff']\n",
    "}\n",
    "\n",
    "# Create a map.\n",
    "my_map = folium.Map(location=[it_lat, it_lon], zoom_start=7)\n",
    "\n",
    "# Add the land cover to the map object.\n",
    "my_map.add_ee_layer(lc_img, lc_vis_params, 'Land Cover')\n",
    "\n",
    "# Add a layer control panel to the map.\n",
    "my_map.add_child(folium.LayerControl())\n",
    "\n",
    "# Display the map.\n",
    "display(my_map)"
   ]
  },
  {
   "cell_type": "markdown",
   "id": "cf9f48b1",
   "metadata": {},
   "source": [
    "- Of course we can add other datasets similarly, by defining some visualization parameters and by adding the appropriate tiles:"
   ]
  },
  {
   "cell_type": "code",
   "execution_count": 23,
   "id": "d19bd377",
   "metadata": {},
   "outputs": [
    {
     "data": {
      "text/html": [
       "<div style=\"width:100%;\"><div style=\"position:relative;width:100%;height:0;padding-bottom:60%;\"><span style=\"color:#565656\">Make this Notebook Trusted to load map: File -> Trust Notebook</span><iframe srcdoc=\"&lt;!DOCTYPE html&gt;\n",
       "&lt;head&gt;    \n",
       "    &lt;meta http-equiv=&quot;content-type&quot; content=&quot;text/html; charset=UTF-8&quot; /&gt;\n",
       "    \n",
       "        &lt;script&gt;\n",
       "            L_NO_TOUCH = false;\n",
       "            L_DISABLE_3D = false;\n",
       "        &lt;/script&gt;\n",
       "    \n",
       "    &lt;style&gt;html, body {width: 100%;height: 100%;margin: 0;padding: 0;}&lt;/style&gt;\n",
       "    &lt;style&gt;#map {position:absolute;top:0;bottom:0;right:0;left:0;}&lt;/style&gt;\n",
       "    &lt;script src=&quot;https://cdn.jsdelivr.net/npm/leaflet@1.6.0/dist/leaflet.js&quot;&gt;&lt;/script&gt;\n",
       "    &lt;script src=&quot;https://code.jquery.com/jquery-1.12.4.min.js&quot;&gt;&lt;/script&gt;\n",
       "    &lt;script src=&quot;https://maxcdn.bootstrapcdn.com/bootstrap/3.2.0/js/bootstrap.min.js&quot;&gt;&lt;/script&gt;\n",
       "    &lt;script src=&quot;https://cdnjs.cloudflare.com/ajax/libs/Leaflet.awesome-markers/2.0.2/leaflet.awesome-markers.js&quot;&gt;&lt;/script&gt;\n",
       "    &lt;link rel=&quot;stylesheet&quot; href=&quot;https://cdn.jsdelivr.net/npm/leaflet@1.6.0/dist/leaflet.css&quot;/&gt;\n",
       "    &lt;link rel=&quot;stylesheet&quot; href=&quot;https://maxcdn.bootstrapcdn.com/bootstrap/3.2.0/css/bootstrap.min.css&quot;/&gt;\n",
       "    &lt;link rel=&quot;stylesheet&quot; href=&quot;https://maxcdn.bootstrapcdn.com/bootstrap/3.2.0/css/bootstrap-theme.min.css&quot;/&gt;\n",
       "    &lt;link rel=&quot;stylesheet&quot; href=&quot;https://maxcdn.bootstrapcdn.com/font-awesome/4.6.3/css/font-awesome.min.css&quot;/&gt;\n",
       "    &lt;link rel=&quot;stylesheet&quot; href=&quot;https://cdnjs.cloudflare.com/ajax/libs/Leaflet.awesome-markers/2.0.2/leaflet.awesome-markers.css&quot;/&gt;\n",
       "    &lt;link rel=&quot;stylesheet&quot; href=&quot;https://cdn.jsdelivr.net/gh/python-visualization/folium/folium/templates/leaflet.awesome.rotate.min.css&quot;/&gt;\n",
       "    \n",
       "            &lt;meta name=&quot;viewport&quot; content=&quot;width=device-width,\n",
       "                initial-scale=1.0, maximum-scale=1.0, user-scalable=no&quot; /&gt;\n",
       "            &lt;style&gt;\n",
       "                #map_934e7dd47f32cab065db1da300f65b2f {\n",
       "                    position: relative;\n",
       "                    width: 100.0%;\n",
       "                    height: 100.0%;\n",
       "                    left: 0.0%;\n",
       "                    top: 0.0%;\n",
       "                }\n",
       "            &lt;/style&gt;\n",
       "        \n",
       "&lt;/head&gt;\n",
       "&lt;body&gt;    \n",
       "    \n",
       "            &lt;div class=&quot;folium-map&quot; id=&quot;map_934e7dd47f32cab065db1da300f65b2f&quot; &gt;&lt;/div&gt;\n",
       "        \n",
       "&lt;/body&gt;\n",
       "&lt;script&gt;    \n",
       "    \n",
       "            var map_934e7dd47f32cab065db1da300f65b2f = L.map(\n",
       "                &quot;map_934e7dd47f32cab065db1da300f65b2f&quot;,\n",
       "                {\n",
       "                    center: [45.77, 4.855],\n",
       "                    crs: L.CRS.EPSG3857,\n",
       "                    zoom: 5,\n",
       "                    zoomControl: true,\n",
       "                    preferCanvas: false,\n",
       "                }\n",
       "            );\n",
       "\n",
       "            \n",
       "\n",
       "        \n",
       "    \n",
       "            var tile_layer_afd62955d12c827e646ec681ad967d7b = L.tileLayer(\n",
       "                &quot;https://{s}.tile.openstreetmap.org/{z}/{x}/{y}.png&quot;,\n",
       "                {&quot;attribution&quot;: &quot;Data by \\u0026copy; \\u003ca href=\\&quot;http://openstreetmap.org\\&quot;\\u003eOpenStreetMap\\u003c/a\\u003e, under \\u003ca href=\\&quot;http://www.openstreetmap.org/copyright\\&quot;\\u003eODbL\\u003c/a\\u003e.&quot;, &quot;detectRetina&quot;: false, &quot;maxNativeZoom&quot;: 18, &quot;maxZoom&quot;: 18, &quot;minZoom&quot;: 0, &quot;noWrap&quot;: false, &quot;opacity&quot;: 1, &quot;subdomains&quot;: &quot;abc&quot;, &quot;tms&quot;: false}\n",
       "            ).addTo(map_934e7dd47f32cab065db1da300f65b2f);\n",
       "        \n",
       "    \n",
       "            var tile_layer_738e4102de34880d9dd2276ab74503f0 = L.tileLayer(\n",
       "                &quot;https://earthengine.googleapis.com/v1alpha/projects/earthengine-legacy/maps/999a86862b85a7c89a94ff39e5419394-9641a4aa9fd9d942146d87bb1a10c80a/tiles/{z}/{x}/{y}&quot;,\n",
       "                {&quot;attribution&quot;: &quot;Map Data \\u0026copy; \\u003ca href=\\&quot;https://earthengine.google.com/\\&quot;\\u003eGoogle Earth Engine\\u003c/a\\u003e&quot;, &quot;detectRetina&quot;: false, &quot;maxNativeZoom&quot;: 18, &quot;maxZoom&quot;: 18, &quot;minZoom&quot;: 0, &quot;noWrap&quot;: false, &quot;opacity&quot;: 1, &quot;subdomains&quot;: &quot;abc&quot;, &quot;tms&quot;: false}\n",
       "            ).addTo(map_934e7dd47f32cab065db1da300f65b2f);\n",
       "        \n",
       "    \n",
       "            var tile_layer_78cd9b1f5ea41ac782110172b481fdfc = L.tileLayer(\n",
       "                &quot;https://earthengine.googleapis.com/v1alpha/projects/earthengine-legacy/maps/ba47ae0d576c7c421e69366d4694a7d0-005239db02be1a6e3a652a8faaba8290/tiles/{z}/{x}/{y}&quot;,\n",
       "                {&quot;attribution&quot;: &quot;Map Data \\u0026copy; \\u003ca href=\\&quot;https://earthengine.google.com/\\&quot;\\u003eGoogle Earth Engine\\u003c/a\\u003e&quot;, &quot;detectRetina&quot;: false, &quot;maxNativeZoom&quot;: 18, &quot;maxZoom&quot;: 18, &quot;minZoom&quot;: 0, &quot;noWrap&quot;: false, &quot;opacity&quot;: 1, &quot;subdomains&quot;: &quot;abc&quot;, &quot;tms&quot;: false}\n",
       "            ).addTo(map_934e7dd47f32cab065db1da300f65b2f);\n",
       "        \n",
       "    \n",
       "            var tile_layer_460a3b24f98c9fc781ad742995682336 = L.tileLayer(\n",
       "                &quot;https://earthengine.googleapis.com/v1alpha/projects/earthengine-legacy/maps/b45c90e7620236ad229e44b388a25422-107291d97126db1c3f3249ead16a5194/tiles/{z}/{x}/{y}&quot;,\n",
       "                {&quot;attribution&quot;: &quot;Map Data \\u0026copy; \\u003ca href=\\&quot;https://earthengine.google.com/\\&quot;\\u003eGoogle Earth Engine\\u003c/a\\u003e&quot;, &quot;detectRetina&quot;: false, &quot;maxNativeZoom&quot;: 18, &quot;maxZoom&quot;: 18, &quot;minZoom&quot;: 0, &quot;noWrap&quot;: false, &quot;opacity&quot;: 1, &quot;subdomains&quot;: &quot;abc&quot;, &quot;tms&quot;: false}\n",
       "            ).addTo(map_934e7dd47f32cab065db1da300f65b2f);\n",
       "        \n",
       "    \n",
       "            var layer_control_e4551477b5967c4233a4d81a7740d947 = {\n",
       "                base_layers : {\n",
       "                    &quot;openstreetmap&quot; : tile_layer_afd62955d12c827e646ec681ad967d7b,\n",
       "                },\n",
       "                overlays :  {\n",
       "                    &quot;Elevation&quot; : tile_layer_738e4102de34880d9dd2276ab74503f0,\n",
       "                    &quot;Land Surface Temperature&quot; : tile_layer_78cd9b1f5ea41ac782110172b481fdfc,\n",
       "                    &quot;Land Cover&quot; : tile_layer_460a3b24f98c9fc781ad742995682336,\n",
       "                },\n",
       "            };\n",
       "            L.control.layers(\n",
       "                layer_control_e4551477b5967c4233a4d81a7740d947.base_layers,\n",
       "                layer_control_e4551477b5967c4233a4d81a7740d947.overlays,\n",
       "                {&quot;autoZIndex&quot;: true, &quot;collapsed&quot;: false, &quot;position&quot;: &quot;topright&quot;}\n",
       "            ).addTo(map_934e7dd47f32cab065db1da300f65b2f);\n",
       "        \n",
       "&lt;/script&gt;\" style=\"position:absolute;width:100%;height:100%;left:0;top:0;border:none !important;\" allowfullscreen webkitallowfullscreen mozallowfullscreen></iframe></div></div>"
      ],
      "text/plain": [
       "<folium.folium.Map at 0x1e4d3cb5700>"
      ]
     },
     "execution_count": 23,
     "metadata": {},
     "output_type": "execute_result"
    }
   ],
   "source": [
    "# Set visualization parameters for ground elevation.\n",
    "elv_vis_params = {\n",
    "    'min': 0, 'max': 4000,\n",
    "    'palette': ['006633', 'E5FFCC', '662A00', 'D8D8D8', 'F5F5F5']}\n",
    "\n",
    "# Set visualization parameters for land surface temperature.\n",
    "lst_vis_params = {\n",
    "    'min': 0, 'max': 40,\n",
    "    'palette': ['white', 'blue', 'green', 'yellow', 'orange', 'red']}\n",
    "\n",
    "# Arrange layers inside a list (elevation, LST and land cover).\n",
    "ee_tiles = [elv_img, lst_img, lc_img]\n",
    "\n",
    "# Arrange visualization parameters inside a list.\n",
    "ee_vis_params = [elv_vis_params, lst_vis_params, lc_vis_params]\n",
    "\n",
    "# Arrange layer names inside a list.\n",
    "ee_tiles_names = ['Elevation', 'Land Surface Temperature', 'Land Cover']\n",
    "\n",
    "# Create a new map.\n",
    "lat, lon = 45.77, 4.855\n",
    "my_map = folium.Map(location=[lat, lon], zoom_start=5)\n",
    "\n",
    "# Add layers to the map using a loop.\n",
    "for tile, vis_param, name in zip(ee_tiles, ee_vis_params, ee_tiles_names):\n",
    "    my_map.add_ee_layer(tile, vis_param, name)\n",
    "\n",
    "folium.LayerControl(collapsed = False).add_to(my_map)\n",
    "\n",
    "my_map"
   ]
  },
  {
   "cell_type": "markdown",
   "id": "064a2773",
   "metadata": {},
   "source": [
    "**Vegetation Index  VI** \n",
    "\n",
    "- Detail **VI** plently available in the literature of the state of the art.\n",
    "\n",
    "- As common and best method of **VI** and as measure of drought indicator, Normailized diference vegitation index,`NDVI` is best calculated using raster data.\n",
    "\n",
    "- **NDVI**allow usto generate an image displaying` greenness (relative biomass)`. \n",
    "\n",
    "- It  takes advantage of the contrast of the characteristics of two bands from a **multispectral raster dataset**—\n",
    "\n",
    "  > - the **chlorophyll pigment absorptions** in the `red band` and \n",
    "  > - the **high reflectivity of plant materials** in the `near-infrared (NIR) band`.\n",
    "  \n",
    " While more is obtained [here](https://desktop.arcgis.com/en/arcmap/10.3/manage-data/raster-and-images/ndvi-function.htm) about **NDVI** a general documentation is given below:\n",
    " \n",
    "$ NDVI = \\frac{IR - R}{IR + R}$\n",
    "\n",
    " > - `IR`= pixel values from the infrared band\n",
    " > - `R` = pixel values from the red band"
   ]
  },
  {
   "cell_type": "markdown",
   "id": "56c1649e",
   "metadata": {},
   "source": [
    "- **NDVI imlications**\n",
    "\n",
    "where NDVI is to representing **greenness**\n",
    "\n",
    "- $NDVI\\in[-1,1]$: \n",
    "\n",
    "- $NDVI  < 0$:  mainly generated from clouds, water, and snow,\n",
    "\n",
    "- $NDVI\\approx 0$ : mainly generated from rock and bare soil.\n",
    "\n",
    "- $0< NDVI \\le 0.1$ :**Low NDVI** and correspond to barren areas of rock, sand, or snow.\n",
    "\n",
    "- $0.2\\le NDVI \\le 0.3$: **Moderate NDVI** and represent **shrub and grassland**, while\n",
    "\n",
    "- $0.6\\le NDVI\\le 0.8$: **high NDVI** and indicate temperate and tropical rainforests."
   ]
  },
  {
   "cell_type": "markdown",
   "id": "0f9ef2fe",
   "metadata": {},
   "source": [
    "-  Hence, since our concern is food security, which is highly dependent to vegtation index, NDVI is a straightforward to our satellite imagery based food security analysis \n",
    "\n",
    "- One important extention of **NDIV** to disscused also is `Enhanced vegetation index` **EVI** to correct some atmospheric conditions and canopy background noise.\n",
    "\n",
    "-  EVI is more sensitive in areas with dense vegetation\n",
    "\n",
    "- It incorporates\n",
    "\n",
    " > - `L` value to **adjust for canopy background**\n",
    " > - `C` values as **coefficients for atmospheric resistance**, and \n",
    " > - values from the `blue band (B)`\n",
    " \n",
    " $EVI = G*\\frac{NIR - R}{NIR + C1 * R – C2 * B + L}$\n",
    " \n",
    " - mostly, `G=2.5`,$C_1 =6$ and $C_2 =7.5$\n",
    " \n",
    " For more [see here](https://www.usgs.gov/landsat-missions/landsat-enhanced-vegetation-index#:~:text=Landsat%20Enhanced%20Vegetation%20Index%20(EVI,in%20areas%20with%20dense%20vegetation.)"
   ]
  },
  {
   "cell_type": "markdown",
   "id": "6dbddb09",
   "metadata": {},
   "source": [
    "**Define starting and ending year of study**"
   ]
  },
  {
   "cell_type": "code",
   "execution_count": 24,
   "id": "9536ed63",
   "metadata": {},
   "outputs": [],
   "source": [
    "# Longer the duration, Longer it will take for Processing and downloading of Images\n",
    "StartDate = '2020-05-01'\n",
    "EndDate = '2021-04-30'"
   ]
  },
  {
   "cell_type": "markdown",
   "id": "8341f4ef",
   "metadata": {},
   "source": [
    "**Define area of interest AOI**\n",
    "\n",
    "- Take Itally as AOI\n",
    "\n",
    "-  Define Itally as polygon from map using `geemap`\n",
    "\n",
    "- Extract features with class `geometry`\n",
    "\n",
    "- redefine the polygon  for not reloading the map"
   ]
  },
  {
   "cell_type": "code",
   "execution_count": 25,
   "id": "8bbd65c7",
   "metadata": {},
   "outputs": [
    {
     "name": "stderr",
     "output_type": "stream",
     "text": [
      "PROJ: proj_create_from_database: SQLite error on SELECT name, type, coordinate_system_auth_name, coordinate_system_code, datum_auth_name, datum_code, area_of_use_auth_name, area_of_use_code, text_definition, deprecated FROM geodetic_crs WHERE auth_name = ? AND code = ?: no such column: area_of_use_auth_name\n"
     ]
    }
   ],
   "source": [
    "#define Italy as polygon\n",
    "import numpy as np\n",
    "import pandas as pd\n",
    "import ee\n",
    "import geemap\n",
    "ee.Initialize()\n",
    "import geopandas as gpd\n",
    "import warnings\n",
    "warnings.filterwarnings('ignore')"
   ]
  },
  {
   "cell_type": "code",
   "execution_count": 28,
   "id": "54c26b10",
   "metadata": {},
   "outputs": [
    {
     "data": {
      "application/vnd.jupyter.widget-view+json": {
       "model_id": "09e499830d05409eb5652579b23fc7ee",
       "version_major": 2,
       "version_minor": 0
      },
      "text/plain": [
       "Map(center=[20, 0], controls=(WidgetControl(options=['position', 'transparent_bg'], widget=HBox(children=(Togg…"
      ]
     },
     "metadata": {},
     "output_type": "display_data"
    }
   ],
   "source": [
    "Map = geemap.Map()\n",
    "Map"
   ]
  },
  {
   "cell_type": "code",
   "execution_count": 29,
   "id": "83005798",
   "metadata": {},
   "outputs": [
    {
     "data": {
      "text/plain": [
       "{'geodesic': False,\n",
       " 'type': 'Polygon',\n",
       " 'coordinates': [[[12.525782, 38.003197],\n",
       "   [13.580604, 38.176132],\n",
       "   [15.690248, 38.279696],\n",
       "   [16.349512, 39.239167],\n",
       "   [16.129757, 39.916583],\n",
       "   [14.239868, 40.853812],\n",
       "   [12.569733, 41.548159],\n",
       "   [11.690714, 42.397601],\n",
       "   [10.855647, 42.979033],\n",
       "   [10.372187, 43.714046],\n",
       "   [9.668972, 44.314514],\n",
       "   [8.570199, 44.502872],\n",
       "   [8.042788, 43.999236],\n",
       "   [7.295623, 44.408769],\n",
       "   [6.724261, 44.971113],\n",
       "   [6.944015, 45.835019],\n",
       "   [7.735132, 46.048931],\n",
       "   [8.877856, 46.140355],\n",
       "   [10.152432, 46.444008],\n",
       "   [11.251205, 46.896332],\n",
       "   [12.349978, 46.715856],\n",
       "   [13.536653, 46.745978],\n",
       "   [13.053193, 46.383412],\n",
       "   [12.92134, 45.773749],\n",
       "   [12.086273, 45.435563],\n",
       "   [12.130224, 44.440153],\n",
       "   [13.185046, 43.714046],\n",
       "   [14.020113, 42.688997],\n",
       "   [15.602346, 41.548159],\n",
       "   [18.063598, 40.620728],\n",
       "   [16.701119, 40.152112],\n",
       "   [17.22853, 39.034653],\n",
       "   [16.305561, 38.176132],\n",
       "   [15.206788, 37.829853],\n",
       "   [14.987033, 36.921901],\n",
       "   [13.185046, 37.516806],\n",
       "   [12.525782, 38.003197]]]}"
      ]
     },
     "execution_count": 29,
     "metadata": {},
     "output_type": "execute_result"
    }
   ],
   "source": [
    "# extract features fo AOI\n",
    "feature =Map.draw_last_feature\n",
    "AOI = feature.geometry()\n",
    "AOI.getInfo()"
   ]
  },
  {
   "cell_type": "markdown",
   "id": "978b667d",
   "metadata": {},
   "source": [
    "- Following is coordinate for Italy as Polygon and would help to demonstraite without reloading  geemap\n",
    "\n",
    "- one can substitute ROI to the `col` simply in the function of `Min_Max_Mean` below, and continue runing.\n",
    "\n",
    "- "
   ]
  },
  {
   "cell_type": "code",
   "execution_count": 38,
   "id": "cd17097f",
   "metadata": {},
   "outputs": [],
   "source": [
    "pol_italy = ee.Geometry.Polygon([[[12.525782, 38.003197],\n",
    "                                 [13.580604, 38.176132],\n",
    "                                 [15.690248, 38.279696],\n",
    "                                 [16.349512, 39.239167],\n",
    "                                 [16.129757, 39.916583],\n",
    "                                 [14.239868, 40.853812],\n",
    "                                 [12.569733, 41.548159],\n",
    "                                 [11.690714, 42.397601],\n",
    "                                 [10.855647, 42.979033],\n",
    "                                 [10.372187, 43.714046],\n",
    "                                 [9.668972, 44.314514],\n",
    "                                 [8.570199, 44.502872],\n",
    "                                 [8.042788, 43.999236],\n",
    "                                 [7.295623, 44.408769],\n",
    "                                 [6.724261, 44.971113],\n",
    "                                 [6.944015, 45.835019],\n",
    "                                 [7.735132, 46.048931],\n",
    "                                 [8.877856, 46.140355],\n",
    "                                 [10.152432, 46.444008],\n",
    "                                 [11.251205, 46.896332],\n",
    "                                 [12.349978, 46.715856],\n",
    "                                 [13.536653, 46.745978],\n",
    "                                 [13.053193, 46.383412],\n",
    "                                 [12.92134, 45.773749],\n",
    "                                 [12.086273, 45.435563],\n",
    "                                 [12.130224, 44.440153],\n",
    "                                 [13.185046, 43.714046],\n",
    "                                 [14.020113, 42.688997],\n",
    "                                 [15.602346, 41.548159],\n",
    "                                 [18.063598, 40.620728],\n",
    "                                 [16.701119, 40.152112],\n",
    "                                 [17.22853, 39.034653],\n",
    "                                 [16.305561, 38.176132],\n",
    "                                 [15.206788, 37.829853],\n",
    "                                 [14.987033, 36.921901],\n",
    "                                 [13.185046, 37.516806],\n",
    "                                 [12.525782, 38.003197]]])"
   ]
  },
  {
   "cell_type": "markdown",
   "id": "98109de4",
   "metadata": {},
   "source": [
    "- Lets proced for minimum and maximu NDVI for crop  prediction in itally and all the algorithm that orginated from GEE are adpated from this [gitsub](https://github.com/krishnakafle/Blog_kaflekrishna/tree/main/GEE/min-max-mean-graph-polygon-ndvi)"
   ]
  },
  {
   "cell_type": "code",
   "execution_count": 39,
   "id": "e8164942",
   "metadata": {},
   "outputs": [
    {
     "name": "stdout",
     "output_type": "stream",
     "text": [
      "{'type': 'FeatureCollection', 'columns': {'id': 'Integer', 'name': 'String', 'system:index': 'String'}, 'features': [{'type': 'Feature', 'geometry': {'type': 'Polygon', 'coordinates': [[[12.525782, 38.003197], [13.185046, 37.516806], [14.987033, 36.921901], [15.206788, 37.829853], [16.305561, 38.176132], [17.22853, 39.034653], [16.701119, 40.152112], [18.063598, 40.620728], [15.602346, 41.548159], [14.020113, 42.688997], [13.185046, 43.714046], [12.130224, 44.440153], [12.086273, 45.435563], [12.92134, 45.773749], [13.053193, 46.383412], [13.536653, 46.745978], [12.349978, 46.715856], [11.251205, 46.896332], [10.152432, 46.444008], [8.877856, 46.140355], [7.735132, 46.048931], [6.944015, 45.835019], [6.724261, 44.971113], [7.295623, 44.408769], [8.042788, 43.999236], [8.570199, 44.502872], [9.668972, 44.314514], [10.372187, 43.714046], [10.855647, 42.979033], [11.690714, 42.397601], [12.569733, 41.548159], [14.239868, 40.853812], [16.129757, 39.916583], [16.349512, 39.239167], [15.690248, 38.279696], [13.580604, 38.176132], [12.525782, 38.003197]]]}, 'id': '0', 'properties': {'id': 1, 'name': 'italy-crop-poly'}}]}\n"
     ]
    }
   ],
   "source": [
    "ens = [\n",
    "    ee.Feature(pol_italy, {'name': 'italy-crop-poly', 'id':1})\n",
    "]\n",
    "\n",
    "col =  ee.FeatureCollection(ens)\n",
    "print(col.getInfo())"
   ]
  },
  {
   "cell_type": "markdown",
   "id": "80f2043e",
   "metadata": {},
   "source": [
    "- Now it is time to invok time for each image"
   ]
  },
  {
   "cell_type": "code",
   "execution_count": 40,
   "id": "9eae7ce8",
   "metadata": {},
   "outputs": [],
   "source": [
    "def addDate(image):\n",
    "    img_date = ee.Date(image.date())\n",
    "    img_date = ee.Number.parse(img_date.format('YYYYMMdd'))\n",
    "    return image.addBands(ee.Image(img_date).rename('date').toInt())"
   ]
  },
  {
   "cell_type": "code",
   "execution_count": 41,
   "id": "977826a7",
   "metadata": {},
   "outputs": [],
   "source": [
    "# add satellite time series: MODIS EVI 250m 16 day -------------\n",
    "# terra sensor\n",
    "collectionModEvi_terra = ee.ImageCollection('MODIS/006/MOD13Q1').filterDate(StartDate,EndDate) \\\n",
    "    .filterBounds(pol_italy)\\\n",
    "    .select('EVI')\n",
    "\n",
    "# Aqua sensor\n",
    "collectionModEvi_aqua = ee.ImageCollection('MODIS/061/MYD13Q1').filterDate(StartDate,EndDate) \\\n",
    "    .filterBounds(pol_italy)\\\n",
    "    .select('EVI');\n",
    "\n",
    "collectionModEvi = collectionModEvi_terra.merge(collectionModEvi_aqua)\n",
    "# THis will provide us 250 m of EVI datasets from MODIS on 8 day interval"
   ]
  },
  {
   "cell_type": "markdown",
   "id": "9a1eb692",
   "metadata": {},
   "source": [
    "- Extract Minimum,Maximum and Mean value of EVI\n",
    "\n",
    "-  To run with `RO` the Map function should be realed by the kernl otherwise error would reported\n",
    "\n",
    "- Runing with `Col` however, static as it alredfy from predefined polygon coordinates"
   ]
  },
  {
   "cell_type": "raw",
   "id": "18b395b5",
   "metadata": {},
   "source": [
    "def extractMinMaxMean(image):\n",
    "    return image.reduceRegions(**{\n",
    "    'collection':col,\n",
    "    'reducer':ee.Reducer.minMax().combine(ee.Reducer.mean(), '', True), \n",
    "  })"
   ]
  },
  {
   "cell_type": "code",
   "execution_count": 56,
   "id": "0930c2b3",
   "metadata": {},
   "outputs": [],
   "source": [
    "def extractMinMaxMean(image):\n",
    "    return image.reduceRegions(**{\n",
    "    'collection':ROI,\n",
    "    'reducer':ee.Reducer.minMax().combine(ee.Reducer.mean(), '', True), \n",
    "  })"
   ]
  },
  {
   "cell_type": "raw",
   "id": "336980c0",
   "metadata": {},
   "source": [
    "ModEVI = collectionModEvi.filterBounds(pol_italy).map(addDate).map(extractMinMaxMean).flatten()"
   ]
  },
  {
   "cell_type": "code",
   "execution_count": 57,
   "id": "4e1c2d9f",
   "metadata": {},
   "outputs": [
    {
     "data": {
      "text/plain": [
       "{'type': 'Feature',\n",
       " 'geometry': {'type': 'Polygon',\n",
       "  'coordinates': [[[12.525782, 38.003197],\n",
       "    [13.185046, 37.516806],\n",
       "    [14.987033, 36.921901],\n",
       "    [15.206788, 37.829853],\n",
       "    [16.305561, 38.176132],\n",
       "    [17.22853, 39.034653],\n",
       "    [16.701119, 40.152112],\n",
       "    [18.063598, 40.620728],\n",
       "    [15.602346, 41.548159],\n",
       "    [14.020113, 42.688997],\n",
       "    [13.185046, 43.714046],\n",
       "    [12.130224, 44.440153],\n",
       "    [12.086273, 45.435563],\n",
       "    [12.92134, 45.773749],\n",
       "    [13.053193, 46.383412],\n",
       "    [13.536653, 46.745978],\n",
       "    [12.349978, 46.715856],\n",
       "    [11.251205, 46.896332],\n",
       "    [10.152432, 46.444008],\n",
       "    [8.877856, 46.140355],\n",
       "    [7.735132, 46.048931],\n",
       "    [6.944015, 45.835019],\n",
       "    [6.724261, 44.971113],\n",
       "    [7.295623, 44.408769],\n",
       "    [8.042788, 43.999236],\n",
       "    [8.570199, 44.502872],\n",
       "    [9.668972, 44.314514],\n",
       "    [10.372187, 43.714046],\n",
       "    [10.855647, 42.979033],\n",
       "    [11.690714, 42.397601],\n",
       "    [12.569733, 41.548159],\n",
       "    [14.239868, 40.853812],\n",
       "    [16.129757, 39.916583],\n",
       "    [16.349512, 39.239167],\n",
       "    [15.690248, 38.279696],\n",
       "    [13.580604, 38.176132],\n",
       "    [12.525782, 38.003197]]]},\n",
       " 'id': '1_2020_05_08_0',\n",
       " 'properties': {'EVI_max': 9995,\n",
       "  'EVI_mean': 4537.5162406631125,\n",
       "  'EVI_min': -2000,\n",
       "  'date_max': 20200508,\n",
       "  'date_mean': 20200508,\n",
       "  'date_min': 20200508,\n",
       "  'id': 1,\n",
       "  'name': 'italy-crop-poly'}}"
      ]
     },
     "execution_count": 57,
     "metadata": {},
     "output_type": "execute_result"
    }
   ],
   "source": [
    "sample_result = ModEVI.first().getInfo()\n",
    "sample_result"
   ]
  },
  {
   "cell_type": "code",
   "execution_count": 58,
   "id": "fd17b93d",
   "metadata": {},
   "outputs": [],
   "source": [
    "# extract the properties column from feature collection\n",
    "# column order may not be as our sample data order\n",
    "column_df = ['EVI_mean', 'EVI_min', 'EVI_max', 'date_min', 'id', 'name']"
   ]
  },
  {
   "cell_type": "code",
   "execution_count": 59,
   "id": "9de297bd",
   "metadata": {},
   "outputs": [
    {
     "data": {
      "text/plain": [
       "[[4537.5162406631125, -2000, 9995, 20200508, 1, 'italy-crop-poly'],\n",
       " [4526.767724306979, -1957, 9994, 20200524, 1, 'italy-crop-poly'],\n",
       " [4540.2732501291575, -1996, 9993, 20200609, 1, 'italy-crop-poly'],\n",
       " [4503.673422742736, -1995, 9990, 20200625, 1, 'italy-crop-poly'],\n",
       " [4299.8384678646125, -1914, 9996, 20200711, 1, 'italy-crop-poly'],\n",
       " [4284.546965376863, -1998, 9996, 20200727, 1, 'italy-crop-poly'],\n",
       " [3990.9597081546317, -1927, 9961, 20200812, 1, 'italy-crop-poly'],\n",
       " [3753.7802779350263, -1988, 9991, 20200828, 1, 'italy-crop-poly'],\n",
       " [3579.9194203666125, -1991, 9806, 20200913, 1, 'italy-crop-poly'],\n",
       " [3324.25980033512, -1856, 9802, 20200929, 1, 'italy-crop-poly'],\n",
       " [3180.1691833725395, -1910, 9997, 20201015, 1, 'italy-crop-poly'],\n",
       " [2787.4187133332243, -1994, 9356, 20201031, 1, 'italy-crop-poly'],\n",
       " [2638.4638419703065, -1958, 9866, 20201116, 1, 'italy-crop-poly'],\n",
       " [2213.2590755183105, -1998, 9959, 20201202, 1, 'italy-crop-poly'],\n",
       " [2297.049719463994, -1993, 9598, 20201218, 1, 'italy-crop-poly'],\n",
       " [2224.4967840562663, -1959, 9733, 20210101, 1, 'italy-crop-poly'],\n",
       " [2228.488240368474, -1985, 9843, 20210117, 1, 'italy-crop-poly'],\n",
       " [2396.451391135431, -1955, 9912, 20210202, 1, 'italy-crop-poly'],\n",
       " [2548.5420682498307, -1853, 9323, 20210218, 1, 'italy-crop-poly'],\n",
       " [2767.907659550837, -1989, 9927, 20210306, 1, 'italy-crop-poly'],\n",
       " [2978.2550064153224, -1991, 9920, 20210322, 1, 'italy-crop-poly'],\n",
       " [3337.0770329328175, -1880, 9987, 20210407, 1, 'italy-crop-poly'],\n",
       " [3745.5001382230826, -1985, 9998, 20210423, 1, 'italy-crop-poly'],\n",
       " [4560.838873313327, -1990, 9993, 20200516, 1, 'italy-crop-poly'],\n",
       " [4381.889502439967, -1997, 10000, 20200601, 1, 'italy-crop-poly'],\n",
       " [4514.132598872142, -2000, 9976, 20200617, 1, 'italy-crop-poly'],\n",
       " [4438.3075758437535, -1996, 9998, 20200703, 1, 'italy-crop-poly'],\n",
       " [4273.389419979646, -1972, 9994, 20200719, 1, 'italy-crop-poly'],\n",
       " [4132.1553940585, -1984, 10000, 20200804, 1, 'italy-crop-poly'],\n",
       " [3792.061290217399, -1980, 9998, 20200820, 1, 'italy-crop-poly'],\n",
       " [3637.410737234015, -1984, 9981, 20200905, 1, 'italy-crop-poly'],\n",
       " [3321.407406432231, -1853, 9981, 20200921, 1, 'italy-crop-poly'],\n",
       " [3172.458573998281, -1998, 9776, 20201007, 1, 'italy-crop-poly'],\n",
       " [2796.584725246189, -1989, 9868, 20201023, 1, 'italy-crop-poly'],\n",
       " [2626.2019351508925, -1866, 9759, 20201108, 1, 'italy-crop-poly'],\n",
       " [2480.8718218212043, -1919, 9864, 20201124, 1, 'italy-crop-poly'],\n",
       " [2257.2035280739988, -1996, 9740, 20201210, 1, 'italy-crop-poly'],\n",
       " [2165.385626516331, -1995, 9938, 20201226, 1, 'italy-crop-poly'],\n",
       " [2084.94931020033, -1994, 9976, 20210109, 1, 'italy-crop-poly'],\n",
       " [2255.36834711163, -1985, 9504, 20210125, 1, 'italy-crop-poly'],\n",
       " [2474.4776513067172, -1933, 9941, 20210210, 1, 'italy-crop-poly'],\n",
       " [2633.0153899881543, -1988, 9902, 20210226, 1, 'italy-crop-poly'],\n",
       " [2823.508351623433, -1997, 9849, 20210314, 1, 'italy-crop-poly'],\n",
       " [3080.789764783903, -1982, 9951, 20210330, 1, 'italy-crop-poly'],\n",
       " [3398.228955690819, -1964, 9955, 20210415, 1, 'italy-crop-poly']]"
      ]
     },
     "execution_count": 59,
     "metadata": {},
     "output_type": "execute_result"
    }
   ],
   "source": [
    "nested_list = ModEVI.reduceColumns(ee.Reducer.toList(len(column_df)), column_df).values().get(0)\n",
    "data = nested_list.getInfo()\n",
    "data"
   ]
  },
  {
   "cell_type": "code",
   "execution_count": 60,
   "id": "52c4529d",
   "metadata": {},
   "outputs": [],
   "source": [
    "# dont forget we need to call the callback method \"getInfo\" to retrieve the data\n",
    "df = pd.DataFrame(data, columns=column_df)\n",
    "# we obtain the data frame as per our demand\n",
    "# df"
   ]
  },
  {
   "cell_type": "code",
   "execution_count": 61,
   "id": "95f6c7be",
   "metadata": {},
   "outputs": [
    {
     "data": {
      "text/html": [
       "<div>\n",
       "<style scoped>\n",
       "    .dataframe tbody tr th:only-of-type {\n",
       "        vertical-align: middle;\n",
       "    }\n",
       "\n",
       "    .dataframe tbody tr th {\n",
       "        vertical-align: top;\n",
       "    }\n",
       "\n",
       "    .dataframe thead th {\n",
       "        text-align: right;\n",
       "    }\n",
       "</style>\n",
       "<table border=\"1\" class=\"dataframe\">\n",
       "  <thead>\n",
       "    <tr style=\"text-align: right;\">\n",
       "      <th></th>\n",
       "      <th>EVI_mean</th>\n",
       "      <th>EVI_min</th>\n",
       "      <th>EVI_max</th>\n",
       "      <th>date_min</th>\n",
       "      <th>id</th>\n",
       "      <th>name</th>\n",
       "      <th>date</th>\n",
       "    </tr>\n",
       "  </thead>\n",
       "  <tbody>\n",
       "    <tr>\n",
       "      <th>0</th>\n",
       "      <td>4537.516241</td>\n",
       "      <td>-2000</td>\n",
       "      <td>9995</td>\n",
       "      <td>20200508</td>\n",
       "      <td>1</td>\n",
       "      <td>italy-crop-poly</td>\n",
       "      <td>2020-05-08</td>\n",
       "    </tr>\n",
       "    <tr>\n",
       "      <th>23</th>\n",
       "      <td>4560.838873</td>\n",
       "      <td>-1990</td>\n",
       "      <td>9993</td>\n",
       "      <td>20200516</td>\n",
       "      <td>1</td>\n",
       "      <td>italy-crop-poly</td>\n",
       "      <td>2020-05-16</td>\n",
       "    </tr>\n",
       "    <tr>\n",
       "      <th>1</th>\n",
       "      <td>4526.767724</td>\n",
       "      <td>-1957</td>\n",
       "      <td>9994</td>\n",
       "      <td>20200524</td>\n",
       "      <td>1</td>\n",
       "      <td>italy-crop-poly</td>\n",
       "      <td>2020-05-24</td>\n",
       "    </tr>\n",
       "    <tr>\n",
       "      <th>24</th>\n",
       "      <td>4381.889502</td>\n",
       "      <td>-1997</td>\n",
       "      <td>10000</td>\n",
       "      <td>20200601</td>\n",
       "      <td>1</td>\n",
       "      <td>italy-crop-poly</td>\n",
       "      <td>2020-06-01</td>\n",
       "    </tr>\n",
       "    <tr>\n",
       "      <th>2</th>\n",
       "      <td>4540.273250</td>\n",
       "      <td>-1996</td>\n",
       "      <td>9993</td>\n",
       "      <td>20200609</td>\n",
       "      <td>1</td>\n",
       "      <td>italy-crop-poly</td>\n",
       "      <td>2020-06-09</td>\n",
       "    </tr>\n",
       "  </tbody>\n",
       "</table>\n",
       "</div>"
      ],
      "text/plain": [
       "       EVI_mean  EVI_min  EVI_max  date_min  id             name       date\n",
       "0   4537.516241    -2000     9995  20200508   1  italy-crop-poly 2020-05-08\n",
       "23  4560.838873    -1990     9993  20200516   1  italy-crop-poly 2020-05-16\n",
       "1   4526.767724    -1957     9994  20200524   1  italy-crop-poly 2020-05-24\n",
       "24  4381.889502    -1997    10000  20200601   1  italy-crop-poly 2020-06-01\n",
       "2   4540.273250    -1996     9993  20200609   1  italy-crop-poly 2020-06-09"
      ]
     },
     "execution_count": 61,
     "metadata": {},
     "output_type": "execute_result"
    }
   ],
   "source": [
    "df['date']= pd.to_datetime(df['date_min'], format='%Y%m%d')\n",
    "df\n",
    "df_new = df.sort_values(by=['date'])\n",
    "df_new.head()"
   ]
  },
  {
   "cell_type": "code",
   "execution_count": 62,
   "id": "4e3258b5",
   "metadata": {},
   "outputs": [],
   "source": [
    "from scipy.signal import savgol_filter\n",
    "import plotly.graph_objects as go\n",
    "date = df_new['date'].tolist()\n",
    "min = savgol_filter(df_new['EVI_min'].tolist(), 9,2)\n",
    "mean = savgol_filter(df_new['EVI_mean'].tolist(), 9,2)\n",
    "max = savgol_filter(df_new['EVI_max'].tolist(),9,2)"
   ]
  },
  {
   "cell_type": "code",
   "execution_count": 65,
   "id": "64a7176e",
   "metadata": {},
   "outputs": [
    {
     "data": {
      "application/vnd.plotly.v1+json": {
       "config": {
        "plotlyServerURL": "https://plot.ly"
       },
       "data": [
        {
         "line": {
          "color": "firebrick",
          "width": 4
         },
         "name": "Minimum EVI",
         "type": "scatter",
         "x": [
          "2020-05-08T00:00:00",
          "2020-05-16T00:00:00",
          "2020-05-24T00:00:00",
          "2020-06-01T00:00:00",
          "2020-06-09T00:00:00",
          "2020-06-17T00:00:00",
          "2020-06-25T00:00:00",
          "2020-07-03T00:00:00",
          "2020-07-11T00:00:00",
          "2020-07-19T00:00:00",
          "2020-07-27T00:00:00",
          "2020-08-04T00:00:00",
          "2020-08-12T00:00:00",
          "2020-08-20T00:00:00",
          "2020-08-28T00:00:00",
          "2020-09-05T00:00:00",
          "2020-09-13T00:00:00",
          "2020-09-21T00:00:00",
          "2020-09-29T00:00:00",
          "2020-10-07T00:00:00",
          "2020-10-15T00:00:00",
          "2020-10-23T00:00:00",
          "2020-10-31T00:00:00",
          "2020-11-08T00:00:00",
          "2020-11-16T00:00:00",
          "2020-11-24T00:00:00",
          "2020-12-02T00:00:00",
          "2020-12-10T00:00:00",
          "2020-12-18T00:00:00",
          "2020-12-26T00:00:00",
          "2021-01-01T00:00:00",
          "2021-01-09T00:00:00",
          "2021-01-17T00:00:00",
          "2021-01-25T00:00:00",
          "2021-02-02T00:00:00",
          "2021-02-10T00:00:00",
          "2021-02-18T00:00:00",
          "2021-02-26T00:00:00",
          "2021-03-06T00:00:00",
          "2021-03-14T00:00:00",
          "2021-03-22T00:00:00",
          "2021-03-30T00:00:00",
          "2021-04-07T00:00:00",
          "2021-04-15T00:00:00",
          "2021-04-23T00:00:00"
         ],
         "y": [
          -1979.1333333333314,
          -1990.0999999999983,
          -1996.7571428571416,
          -1999.1047619047608,
          -1997.1428571428542,
          -1992.3506493506466,
          -1984.805194805192,
          -1974.3419913419884,
          -1975.4025974025944,
          -1965.9913419913391,
          -1962.4502164502137,
          -1966.1558441558414,
          -1976.5454545454518,
          -1984.861471861469,
          -1978.0692640692614,
          -1951.2943722943694,
          -1946.7445887445858,
          -1920.2857142857115,
          -1911.675324675322,
          -1930.8398268398241,
          -1936.2554112554085,
          -1961.2424242424213,
          -1950.528138528136,
          -1933.9913419913391,
          -1945.5714285714257,
          -1946.3939393939368,
          -1967.1948051948025,
          -1990.0519480519454,
          -1988.7575757575728,
          -1993.5108225108197,
          -1986.3636363636335,
          -1985.3030303030275,
          -1986.3766233766207,
          -1959.969696969694,
          -1945.6233766233738,
          -1932.688311688309,
          -1935.6233766233736,
          -1947.9090909090883,
          -1977.1948051948025,
          -1982.675324675322,
          -1982.4935064935037,
          -1982.6528138528122,
          -1975.697402597401,
          -1961.627272727271,
          -1940.4424242424227
         ]
        },
        {
         "line": {
          "color": "royalblue",
          "width": 4
         },
         "name": "Mean EVI",
         "type": "scatter",
         "x": [
          "2020-05-08T00:00:00",
          "2020-05-16T00:00:00",
          "2020-05-24T00:00:00",
          "2020-06-01T00:00:00",
          "2020-06-09T00:00:00",
          "2020-06-17T00:00:00",
          "2020-06-25T00:00:00",
          "2020-07-03T00:00:00",
          "2020-07-11T00:00:00",
          "2020-07-19T00:00:00",
          "2020-07-27T00:00:00",
          "2020-08-04T00:00:00",
          "2020-08-12T00:00:00",
          "2020-08-20T00:00:00",
          "2020-08-28T00:00:00",
          "2020-09-05T00:00:00",
          "2020-09-13T00:00:00",
          "2020-09-21T00:00:00",
          "2020-09-29T00:00:00",
          "2020-10-07T00:00:00",
          "2020-10-15T00:00:00",
          "2020-10-23T00:00:00",
          "2020-10-31T00:00:00",
          "2020-11-08T00:00:00",
          "2020-11-16T00:00:00",
          "2020-11-24T00:00:00",
          "2020-12-02T00:00:00",
          "2020-12-10T00:00:00",
          "2020-12-18T00:00:00",
          "2020-12-26T00:00:00",
          "2021-01-01T00:00:00",
          "2021-01-09T00:00:00",
          "2021-01-17T00:00:00",
          "2021-01-25T00:00:00",
          "2021-02-02T00:00:00",
          "2021-02-10T00:00:00",
          "2021-02-18T00:00:00",
          "2021-02-26T00:00:00",
          "2021-03-06T00:00:00",
          "2021-03-14T00:00:00",
          "2021-03-22T00:00:00",
          "2021-03-30T00:00:00",
          "2021-04-07T00:00:00",
          "2021-04-15T00:00:00",
          "2021-04-23T00:00:00"
         ],
         "y": [
          4521.485399348443,
          4530.049504195057,
          4530.298862465025,
          4522.233474158345,
          4505.853339275014,
          4488.087975120572,
          4459.087250254326,
          4435.998649322134,
          4366.904079187048,
          4304.890204163238,
          4207.1318449812425,
          4105.574390408647,
          3991.971310689696,
          3876.937015315299,
          3733.739173245839,
          3623.6730569874194,
          3506.253506446281,
          3433.2785461862522,
          3303.698287302749,
          3180.1852029146503,
          3034.6072046940867,
          2922.1916548372596,
          2801.184419415686,
          2663.417614618506,
          2520.386242012406,
          2449.344020648288,
          2340.9323968139397,
          2281.744572218917,
          2204.0421144538886,
          2181.7690161129053,
          2180.2227867028364,
          2174.139897721395,
          2204.656263448457,
          2280.0313708452913,
          2356.352859370493,
          2469.8819293565475,
          2551.260930014103,
          2650.407864245526,
          2731.0544016982712,
          2851.904789669581,
          2964.961390367689,
          3116.7491402189316,
          3289.475951875137,
          3483.1418253363076,
          3697.746760602444
         ]
        },
        {
         "line": {
          "color": "gray",
          "width": 4
         },
         "name": "Max EVI",
         "type": "scatter",
         "x": [
          "2020-05-08T00:00:00",
          "2020-05-16T00:00:00",
          "2020-05-24T00:00:00",
          "2020-06-01T00:00:00",
          "2020-06-09T00:00:00",
          "2020-06-17T00:00:00",
          "2020-06-25T00:00:00",
          "2020-07-03T00:00:00",
          "2020-07-11T00:00:00",
          "2020-07-19T00:00:00",
          "2020-07-27T00:00:00",
          "2020-08-04T00:00:00",
          "2020-08-12T00:00:00",
          "2020-08-20T00:00:00",
          "2020-08-28T00:00:00",
          "2020-09-05T00:00:00",
          "2020-09-13T00:00:00",
          "2020-09-21T00:00:00",
          "2020-09-29T00:00:00",
          "2020-10-07T00:00:00",
          "2020-10-15T00:00:00",
          "2020-10-23T00:00:00",
          "2020-10-31T00:00:00",
          "2020-11-08T00:00:00",
          "2020-11-16T00:00:00",
          "2020-11-24T00:00:00",
          "2020-12-02T00:00:00",
          "2020-12-10T00:00:00",
          "2020-12-18T00:00:00",
          "2020-12-26T00:00:00",
          "2021-01-01T00:00:00",
          "2021-01-09T00:00:00",
          "2021-01-17T00:00:00",
          "2021-01-25T00:00:00",
          "2021-02-02T00:00:00",
          "2021-02-10T00:00:00",
          "2021-02-18T00:00:00",
          "2021-02-26T00:00:00",
          "2021-03-06T00:00:00",
          "2021-03-14T00:00:00",
          "2021-03-22T00:00:00",
          "2021-03-30T00:00:00",
          "2021-04-07T00:00:00",
          "2021-04-15T00:00:00",
          "2021-04-23T00:00:00"
         ],
         "y": [
          9997.290909090898,
          9994.339393939385,
          9992.169264069256,
          9990.780519480513,
          9990.173160173146,
          9990.134199134183,
          9990.056277056263,
          9990.484848484833,
          9997.471861471848,
          9995.653679653666,
          9991.800865800851,
          9989.7186147186,
          10003.861471861457,
          9975.33333333332,
          9970.666666666653,
          9950.147186147173,
          9896.740259740245,
          9873.93939393938,
          9909.575757575742,
          9843.15584415583,
          9787.917748917735,
          9730.502164502152,
          9725.099567099553,
          9752.662337662325,
          9775.056277056265,
          9794.012987012973,
          9870.917748917735,
          9796.393939393925,
          9786.809523809508,
          9825.28138528137,
          9783.233766233752,
          9799.84848484847,
          9869.164502164487,
          9759.363636363621,
          9730.493506493493,
          9707.783549783537,
          9745.536796536782,
          9803.554112554099,
          9797.97835497834,
          9868.484848484833,
          9971.354978354964,
          10007.201731601726,
          10012.041991341986,
          9985.875757575752,
          9928.703030303024
         ]
        }
       ],
       "layout": {
        "template": {
         "data": {
          "bar": [
           {
            "error_x": {
             "color": "#2a3f5f"
            },
            "error_y": {
             "color": "#2a3f5f"
            },
            "marker": {
             "line": {
              "color": "#E5ECF6",
              "width": 0.5
             },
             "pattern": {
              "fillmode": "overlay",
              "size": 10,
              "solidity": 0.2
             }
            },
            "type": "bar"
           }
          ],
          "barpolar": [
           {
            "marker": {
             "line": {
              "color": "#E5ECF6",
              "width": 0.5
             },
             "pattern": {
              "fillmode": "overlay",
              "size": 10,
              "solidity": 0.2
             }
            },
            "type": "barpolar"
           }
          ],
          "carpet": [
           {
            "aaxis": {
             "endlinecolor": "#2a3f5f",
             "gridcolor": "white",
             "linecolor": "white",
             "minorgridcolor": "white",
             "startlinecolor": "#2a3f5f"
            },
            "baxis": {
             "endlinecolor": "#2a3f5f",
             "gridcolor": "white",
             "linecolor": "white",
             "minorgridcolor": "white",
             "startlinecolor": "#2a3f5f"
            },
            "type": "carpet"
           }
          ],
          "choropleth": [
           {
            "colorbar": {
             "outlinewidth": 0,
             "ticks": ""
            },
            "type": "choropleth"
           }
          ],
          "contour": [
           {
            "colorbar": {
             "outlinewidth": 0,
             "ticks": ""
            },
            "colorscale": [
             [
              0,
              "#0d0887"
             ],
             [
              0.1111111111111111,
              "#46039f"
             ],
             [
              0.2222222222222222,
              "#7201a8"
             ],
             [
              0.3333333333333333,
              "#9c179e"
             ],
             [
              0.4444444444444444,
              "#bd3786"
             ],
             [
              0.5555555555555556,
              "#d8576b"
             ],
             [
              0.6666666666666666,
              "#ed7953"
             ],
             [
              0.7777777777777778,
              "#fb9f3a"
             ],
             [
              0.8888888888888888,
              "#fdca26"
             ],
             [
              1,
              "#f0f921"
             ]
            ],
            "type": "contour"
           }
          ],
          "contourcarpet": [
           {
            "colorbar": {
             "outlinewidth": 0,
             "ticks": ""
            },
            "type": "contourcarpet"
           }
          ],
          "heatmap": [
           {
            "colorbar": {
             "outlinewidth": 0,
             "ticks": ""
            },
            "colorscale": [
             [
              0,
              "#0d0887"
             ],
             [
              0.1111111111111111,
              "#46039f"
             ],
             [
              0.2222222222222222,
              "#7201a8"
             ],
             [
              0.3333333333333333,
              "#9c179e"
             ],
             [
              0.4444444444444444,
              "#bd3786"
             ],
             [
              0.5555555555555556,
              "#d8576b"
             ],
             [
              0.6666666666666666,
              "#ed7953"
             ],
             [
              0.7777777777777778,
              "#fb9f3a"
             ],
             [
              0.8888888888888888,
              "#fdca26"
             ],
             [
              1,
              "#f0f921"
             ]
            ],
            "type": "heatmap"
           }
          ],
          "heatmapgl": [
           {
            "colorbar": {
             "outlinewidth": 0,
             "ticks": ""
            },
            "colorscale": [
             [
              0,
              "#0d0887"
             ],
             [
              0.1111111111111111,
              "#46039f"
             ],
             [
              0.2222222222222222,
              "#7201a8"
             ],
             [
              0.3333333333333333,
              "#9c179e"
             ],
             [
              0.4444444444444444,
              "#bd3786"
             ],
             [
              0.5555555555555556,
              "#d8576b"
             ],
             [
              0.6666666666666666,
              "#ed7953"
             ],
             [
              0.7777777777777778,
              "#fb9f3a"
             ],
             [
              0.8888888888888888,
              "#fdca26"
             ],
             [
              1,
              "#f0f921"
             ]
            ],
            "type": "heatmapgl"
           }
          ],
          "histogram": [
           {
            "marker": {
             "pattern": {
              "fillmode": "overlay",
              "size": 10,
              "solidity": 0.2
             }
            },
            "type": "histogram"
           }
          ],
          "histogram2d": [
           {
            "colorbar": {
             "outlinewidth": 0,
             "ticks": ""
            },
            "colorscale": [
             [
              0,
              "#0d0887"
             ],
             [
              0.1111111111111111,
              "#46039f"
             ],
             [
              0.2222222222222222,
              "#7201a8"
             ],
             [
              0.3333333333333333,
              "#9c179e"
             ],
             [
              0.4444444444444444,
              "#bd3786"
             ],
             [
              0.5555555555555556,
              "#d8576b"
             ],
             [
              0.6666666666666666,
              "#ed7953"
             ],
             [
              0.7777777777777778,
              "#fb9f3a"
             ],
             [
              0.8888888888888888,
              "#fdca26"
             ],
             [
              1,
              "#f0f921"
             ]
            ],
            "type": "histogram2d"
           }
          ],
          "histogram2dcontour": [
           {
            "colorbar": {
             "outlinewidth": 0,
             "ticks": ""
            },
            "colorscale": [
             [
              0,
              "#0d0887"
             ],
             [
              0.1111111111111111,
              "#46039f"
             ],
             [
              0.2222222222222222,
              "#7201a8"
             ],
             [
              0.3333333333333333,
              "#9c179e"
             ],
             [
              0.4444444444444444,
              "#bd3786"
             ],
             [
              0.5555555555555556,
              "#d8576b"
             ],
             [
              0.6666666666666666,
              "#ed7953"
             ],
             [
              0.7777777777777778,
              "#fb9f3a"
             ],
             [
              0.8888888888888888,
              "#fdca26"
             ],
             [
              1,
              "#f0f921"
             ]
            ],
            "type": "histogram2dcontour"
           }
          ],
          "mesh3d": [
           {
            "colorbar": {
             "outlinewidth": 0,
             "ticks": ""
            },
            "type": "mesh3d"
           }
          ],
          "parcoords": [
           {
            "line": {
             "colorbar": {
              "outlinewidth": 0,
              "ticks": ""
             }
            },
            "type": "parcoords"
           }
          ],
          "pie": [
           {
            "automargin": true,
            "type": "pie"
           }
          ],
          "scatter": [
           {
            "fillpattern": {
             "fillmode": "overlay",
             "size": 10,
             "solidity": 0.2
            },
            "type": "scatter"
           }
          ],
          "scatter3d": [
           {
            "line": {
             "colorbar": {
              "outlinewidth": 0,
              "ticks": ""
             }
            },
            "marker": {
             "colorbar": {
              "outlinewidth": 0,
              "ticks": ""
             }
            },
            "type": "scatter3d"
           }
          ],
          "scattercarpet": [
           {
            "marker": {
             "colorbar": {
              "outlinewidth": 0,
              "ticks": ""
             }
            },
            "type": "scattercarpet"
           }
          ],
          "scattergeo": [
           {
            "marker": {
             "colorbar": {
              "outlinewidth": 0,
              "ticks": ""
             }
            },
            "type": "scattergeo"
           }
          ],
          "scattergl": [
           {
            "marker": {
             "colorbar": {
              "outlinewidth": 0,
              "ticks": ""
             }
            },
            "type": "scattergl"
           }
          ],
          "scattermapbox": [
           {
            "marker": {
             "colorbar": {
              "outlinewidth": 0,
              "ticks": ""
             }
            },
            "type": "scattermapbox"
           }
          ],
          "scatterpolar": [
           {
            "marker": {
             "colorbar": {
              "outlinewidth": 0,
              "ticks": ""
             }
            },
            "type": "scatterpolar"
           }
          ],
          "scatterpolargl": [
           {
            "marker": {
             "colorbar": {
              "outlinewidth": 0,
              "ticks": ""
             }
            },
            "type": "scatterpolargl"
           }
          ],
          "scatterternary": [
           {
            "marker": {
             "colorbar": {
              "outlinewidth": 0,
              "ticks": ""
             }
            },
            "type": "scatterternary"
           }
          ],
          "surface": [
           {
            "colorbar": {
             "outlinewidth": 0,
             "ticks": ""
            },
            "colorscale": [
             [
              0,
              "#0d0887"
             ],
             [
              0.1111111111111111,
              "#46039f"
             ],
             [
              0.2222222222222222,
              "#7201a8"
             ],
             [
              0.3333333333333333,
              "#9c179e"
             ],
             [
              0.4444444444444444,
              "#bd3786"
             ],
             [
              0.5555555555555556,
              "#d8576b"
             ],
             [
              0.6666666666666666,
              "#ed7953"
             ],
             [
              0.7777777777777778,
              "#fb9f3a"
             ],
             [
              0.8888888888888888,
              "#fdca26"
             ],
             [
              1,
              "#f0f921"
             ]
            ],
            "type": "surface"
           }
          ],
          "table": [
           {
            "cells": {
             "fill": {
              "color": "#EBF0F8"
             },
             "line": {
              "color": "white"
             }
            },
            "header": {
             "fill": {
              "color": "#C8D4E3"
             },
             "line": {
              "color": "white"
             }
            },
            "type": "table"
           }
          ]
         },
         "layout": {
          "annotationdefaults": {
           "arrowcolor": "#2a3f5f",
           "arrowhead": 0,
           "arrowwidth": 1
          },
          "autotypenumbers": "strict",
          "coloraxis": {
           "colorbar": {
            "outlinewidth": 0,
            "ticks": ""
           }
          },
          "colorscale": {
           "diverging": [
            [
             0,
             "#8e0152"
            ],
            [
             0.1,
             "#c51b7d"
            ],
            [
             0.2,
             "#de77ae"
            ],
            [
             0.3,
             "#f1b6da"
            ],
            [
             0.4,
             "#fde0ef"
            ],
            [
             0.5,
             "#f7f7f7"
            ],
            [
             0.6,
             "#e6f5d0"
            ],
            [
             0.7,
             "#b8e186"
            ],
            [
             0.8,
             "#7fbc41"
            ],
            [
             0.9,
             "#4d9221"
            ],
            [
             1,
             "#276419"
            ]
           ],
           "sequential": [
            [
             0,
             "#0d0887"
            ],
            [
             0.1111111111111111,
             "#46039f"
            ],
            [
             0.2222222222222222,
             "#7201a8"
            ],
            [
             0.3333333333333333,
             "#9c179e"
            ],
            [
             0.4444444444444444,
             "#bd3786"
            ],
            [
             0.5555555555555556,
             "#d8576b"
            ],
            [
             0.6666666666666666,
             "#ed7953"
            ],
            [
             0.7777777777777778,
             "#fb9f3a"
            ],
            [
             0.8888888888888888,
             "#fdca26"
            ],
            [
             1,
             "#f0f921"
            ]
           ],
           "sequentialminus": [
            [
             0,
             "#0d0887"
            ],
            [
             0.1111111111111111,
             "#46039f"
            ],
            [
             0.2222222222222222,
             "#7201a8"
            ],
            [
             0.3333333333333333,
             "#9c179e"
            ],
            [
             0.4444444444444444,
             "#bd3786"
            ],
            [
             0.5555555555555556,
             "#d8576b"
            ],
            [
             0.6666666666666666,
             "#ed7953"
            ],
            [
             0.7777777777777778,
             "#fb9f3a"
            ],
            [
             0.8888888888888888,
             "#fdca26"
            ],
            [
             1,
             "#f0f921"
            ]
           ]
          },
          "colorway": [
           "#636efa",
           "#EF553B",
           "#00cc96",
           "#ab63fa",
           "#FFA15A",
           "#19d3f3",
           "#FF6692",
           "#B6E880",
           "#FF97FF",
           "#FECB52"
          ],
          "font": {
           "color": "#2a3f5f"
          },
          "geo": {
           "bgcolor": "white",
           "lakecolor": "white",
           "landcolor": "#E5ECF6",
           "showlakes": true,
           "showland": true,
           "subunitcolor": "white"
          },
          "hoverlabel": {
           "align": "left"
          },
          "hovermode": "closest",
          "mapbox": {
           "style": "light"
          },
          "paper_bgcolor": "white",
          "plot_bgcolor": "#E5ECF6",
          "polar": {
           "angularaxis": {
            "gridcolor": "white",
            "linecolor": "white",
            "ticks": ""
           },
           "bgcolor": "#E5ECF6",
           "radialaxis": {
            "gridcolor": "white",
            "linecolor": "white",
            "ticks": ""
           }
          },
          "scene": {
           "xaxis": {
            "backgroundcolor": "#E5ECF6",
            "gridcolor": "white",
            "gridwidth": 2,
            "linecolor": "white",
            "showbackground": true,
            "ticks": "",
            "zerolinecolor": "white"
           },
           "yaxis": {
            "backgroundcolor": "#E5ECF6",
            "gridcolor": "white",
            "gridwidth": 2,
            "linecolor": "white",
            "showbackground": true,
            "ticks": "",
            "zerolinecolor": "white"
           },
           "zaxis": {
            "backgroundcolor": "#E5ECF6",
            "gridcolor": "white",
            "gridwidth": 2,
            "linecolor": "white",
            "showbackground": true,
            "ticks": "",
            "zerolinecolor": "white"
           }
          },
          "shapedefaults": {
           "line": {
            "color": "#2a3f5f"
           }
          },
          "ternary": {
           "aaxis": {
            "gridcolor": "white",
            "linecolor": "white",
            "ticks": ""
           },
           "baxis": {
            "gridcolor": "white",
            "linecolor": "white",
            "ticks": ""
           },
           "bgcolor": "#E5ECF6",
           "caxis": {
            "gridcolor": "white",
            "linecolor": "white",
            "ticks": ""
           }
          },
          "title": {
           "x": 0.05
          },
          "xaxis": {
           "automargin": true,
           "gridcolor": "white",
           "linecolor": "white",
           "ticks": "",
           "title": {
            "standoff": 15
           },
           "zerolinecolor": "white",
           "zerolinewidth": 2
          },
          "yaxis": {
           "automargin": true,
           "gridcolor": "white",
           "linecolor": "white",
           "ticks": "",
           "title": {
            "standoff": 15
           },
           "zerolinecolor": "white",
           "zerolinewidth": 2
          }
         }
        },
        "title": {
         "text": "Average High and Low Temperatures in New York"
        },
        "xaxis": {
         "title": {
          "text": "Month"
         }
        },
        "yaxis": {
         "title": {
          "text": "Temperature (degrees F)"
         }
        }
       }
      },
      "text/html": [
       "<div>                            <div id=\"ba581898-9a1b-4fe2-b201-65630fd39cbf\" class=\"plotly-graph-div\" style=\"height:525px; width:100%;\"></div>            <script type=\"text/javascript\">                require([\"plotly\"], function(Plotly) {                    window.PLOTLYENV=window.PLOTLYENV || {};                                    if (document.getElementById(\"ba581898-9a1b-4fe2-b201-65630fd39cbf\")) {                    Plotly.newPlot(                        \"ba581898-9a1b-4fe2-b201-65630fd39cbf\",                        [{\"line\":{\"color\":\"firebrick\",\"width\":4},\"name\":\"Minimum EVI\",\"x\":[\"2020-05-08T00:00:00\",\"2020-05-16T00:00:00\",\"2020-05-24T00:00:00\",\"2020-06-01T00:00:00\",\"2020-06-09T00:00:00\",\"2020-06-17T00:00:00\",\"2020-06-25T00:00:00\",\"2020-07-03T00:00:00\",\"2020-07-11T00:00:00\",\"2020-07-19T00:00:00\",\"2020-07-27T00:00:00\",\"2020-08-04T00:00:00\",\"2020-08-12T00:00:00\",\"2020-08-20T00:00:00\",\"2020-08-28T00:00:00\",\"2020-09-05T00:00:00\",\"2020-09-13T00:00:00\",\"2020-09-21T00:00:00\",\"2020-09-29T00:00:00\",\"2020-10-07T00:00:00\",\"2020-10-15T00:00:00\",\"2020-10-23T00:00:00\",\"2020-10-31T00:00:00\",\"2020-11-08T00:00:00\",\"2020-11-16T00:00:00\",\"2020-11-24T00:00:00\",\"2020-12-02T00:00:00\",\"2020-12-10T00:00:00\",\"2020-12-18T00:00:00\",\"2020-12-26T00:00:00\",\"2021-01-01T00:00:00\",\"2021-01-09T00:00:00\",\"2021-01-17T00:00:00\",\"2021-01-25T00:00:00\",\"2021-02-02T00:00:00\",\"2021-02-10T00:00:00\",\"2021-02-18T00:00:00\",\"2021-02-26T00:00:00\",\"2021-03-06T00:00:00\",\"2021-03-14T00:00:00\",\"2021-03-22T00:00:00\",\"2021-03-30T00:00:00\",\"2021-04-07T00:00:00\",\"2021-04-15T00:00:00\",\"2021-04-23T00:00:00\"],\"y\":[-1979.1333333333314,-1990.0999999999983,-1996.7571428571416,-1999.1047619047608,-1997.1428571428542,-1992.3506493506466,-1984.805194805192,-1974.3419913419884,-1975.4025974025944,-1965.9913419913391,-1962.4502164502137,-1966.1558441558414,-1976.5454545454518,-1984.861471861469,-1978.0692640692614,-1951.2943722943694,-1946.7445887445858,-1920.2857142857115,-1911.675324675322,-1930.8398268398241,-1936.2554112554085,-1961.2424242424213,-1950.528138528136,-1933.9913419913391,-1945.5714285714257,-1946.3939393939368,-1967.1948051948025,-1990.0519480519454,-1988.7575757575728,-1993.5108225108197,-1986.3636363636335,-1985.3030303030275,-1986.3766233766207,-1959.969696969694,-1945.6233766233738,-1932.688311688309,-1935.6233766233736,-1947.9090909090883,-1977.1948051948025,-1982.675324675322,-1982.4935064935037,-1982.6528138528122,-1975.697402597401,-1961.627272727271,-1940.4424242424227],\"type\":\"scatter\"},{\"line\":{\"color\":\"royalblue\",\"width\":4},\"name\":\"Mean EVI\",\"x\":[\"2020-05-08T00:00:00\",\"2020-05-16T00:00:00\",\"2020-05-24T00:00:00\",\"2020-06-01T00:00:00\",\"2020-06-09T00:00:00\",\"2020-06-17T00:00:00\",\"2020-06-25T00:00:00\",\"2020-07-03T00:00:00\",\"2020-07-11T00:00:00\",\"2020-07-19T00:00:00\",\"2020-07-27T00:00:00\",\"2020-08-04T00:00:00\",\"2020-08-12T00:00:00\",\"2020-08-20T00:00:00\",\"2020-08-28T00:00:00\",\"2020-09-05T00:00:00\",\"2020-09-13T00:00:00\",\"2020-09-21T00:00:00\",\"2020-09-29T00:00:00\",\"2020-10-07T00:00:00\",\"2020-10-15T00:00:00\",\"2020-10-23T00:00:00\",\"2020-10-31T00:00:00\",\"2020-11-08T00:00:00\",\"2020-11-16T00:00:00\",\"2020-11-24T00:00:00\",\"2020-12-02T00:00:00\",\"2020-12-10T00:00:00\",\"2020-12-18T00:00:00\",\"2020-12-26T00:00:00\",\"2021-01-01T00:00:00\",\"2021-01-09T00:00:00\",\"2021-01-17T00:00:00\",\"2021-01-25T00:00:00\",\"2021-02-02T00:00:00\",\"2021-02-10T00:00:00\",\"2021-02-18T00:00:00\",\"2021-02-26T00:00:00\",\"2021-03-06T00:00:00\",\"2021-03-14T00:00:00\",\"2021-03-22T00:00:00\",\"2021-03-30T00:00:00\",\"2021-04-07T00:00:00\",\"2021-04-15T00:00:00\",\"2021-04-23T00:00:00\"],\"y\":[4521.485399348443,4530.049504195057,4530.298862465025,4522.233474158345,4505.853339275014,4488.087975120572,4459.087250254326,4435.998649322134,4366.904079187048,4304.890204163238,4207.1318449812425,4105.574390408647,3991.971310689696,3876.937015315299,3733.739173245839,3623.6730569874194,3506.253506446281,3433.2785461862522,3303.698287302749,3180.1852029146503,3034.6072046940867,2922.1916548372596,2801.184419415686,2663.417614618506,2520.386242012406,2449.344020648288,2340.9323968139397,2281.744572218917,2204.0421144538886,2181.7690161129053,2180.2227867028364,2174.139897721395,2204.656263448457,2280.0313708452913,2356.352859370493,2469.8819293565475,2551.260930014103,2650.407864245526,2731.0544016982712,2851.904789669581,2964.961390367689,3116.7491402189316,3289.475951875137,3483.1418253363076,3697.746760602444],\"type\":\"scatter\"},{\"line\":{\"color\":\"gray\",\"width\":4},\"name\":\"Max EVI\",\"x\":[\"2020-05-08T00:00:00\",\"2020-05-16T00:00:00\",\"2020-05-24T00:00:00\",\"2020-06-01T00:00:00\",\"2020-06-09T00:00:00\",\"2020-06-17T00:00:00\",\"2020-06-25T00:00:00\",\"2020-07-03T00:00:00\",\"2020-07-11T00:00:00\",\"2020-07-19T00:00:00\",\"2020-07-27T00:00:00\",\"2020-08-04T00:00:00\",\"2020-08-12T00:00:00\",\"2020-08-20T00:00:00\",\"2020-08-28T00:00:00\",\"2020-09-05T00:00:00\",\"2020-09-13T00:00:00\",\"2020-09-21T00:00:00\",\"2020-09-29T00:00:00\",\"2020-10-07T00:00:00\",\"2020-10-15T00:00:00\",\"2020-10-23T00:00:00\",\"2020-10-31T00:00:00\",\"2020-11-08T00:00:00\",\"2020-11-16T00:00:00\",\"2020-11-24T00:00:00\",\"2020-12-02T00:00:00\",\"2020-12-10T00:00:00\",\"2020-12-18T00:00:00\",\"2020-12-26T00:00:00\",\"2021-01-01T00:00:00\",\"2021-01-09T00:00:00\",\"2021-01-17T00:00:00\",\"2021-01-25T00:00:00\",\"2021-02-02T00:00:00\",\"2021-02-10T00:00:00\",\"2021-02-18T00:00:00\",\"2021-02-26T00:00:00\",\"2021-03-06T00:00:00\",\"2021-03-14T00:00:00\",\"2021-03-22T00:00:00\",\"2021-03-30T00:00:00\",\"2021-04-07T00:00:00\",\"2021-04-15T00:00:00\",\"2021-04-23T00:00:00\"],\"y\":[9997.290909090898,9994.339393939385,9992.169264069256,9990.780519480513,9990.173160173146,9990.134199134183,9990.056277056263,9990.484848484833,9997.471861471848,9995.653679653666,9991.800865800851,9989.7186147186,10003.861471861457,9975.33333333332,9970.666666666653,9950.147186147173,9896.740259740245,9873.93939393938,9909.575757575742,9843.15584415583,9787.917748917735,9730.502164502152,9725.099567099553,9752.662337662325,9775.056277056265,9794.012987012973,9870.917748917735,9796.393939393925,9786.809523809508,9825.28138528137,9783.233766233752,9799.84848484847,9869.164502164487,9759.363636363621,9730.493506493493,9707.783549783537,9745.536796536782,9803.554112554099,9797.97835497834,9868.484848484833,9971.354978354964,10007.201731601726,10012.041991341986,9985.875757575752,9928.703030303024],\"type\":\"scatter\"}],                        {\"template\":{\"data\":{\"histogram2dcontour\":[{\"type\":\"histogram2dcontour\",\"colorbar\":{\"outlinewidth\":0,\"ticks\":\"\"},\"colorscale\":[[0.0,\"#0d0887\"],[0.1111111111111111,\"#46039f\"],[0.2222222222222222,\"#7201a8\"],[0.3333333333333333,\"#9c179e\"],[0.4444444444444444,\"#bd3786\"],[0.5555555555555556,\"#d8576b\"],[0.6666666666666666,\"#ed7953\"],[0.7777777777777778,\"#fb9f3a\"],[0.8888888888888888,\"#fdca26\"],[1.0,\"#f0f921\"]]}],\"choropleth\":[{\"type\":\"choropleth\",\"colorbar\":{\"outlinewidth\":0,\"ticks\":\"\"}}],\"histogram2d\":[{\"type\":\"histogram2d\",\"colorbar\":{\"outlinewidth\":0,\"ticks\":\"\"},\"colorscale\":[[0.0,\"#0d0887\"],[0.1111111111111111,\"#46039f\"],[0.2222222222222222,\"#7201a8\"],[0.3333333333333333,\"#9c179e\"],[0.4444444444444444,\"#bd3786\"],[0.5555555555555556,\"#d8576b\"],[0.6666666666666666,\"#ed7953\"],[0.7777777777777778,\"#fb9f3a\"],[0.8888888888888888,\"#fdca26\"],[1.0,\"#f0f921\"]]}],\"heatmap\":[{\"type\":\"heatmap\",\"colorbar\":{\"outlinewidth\":0,\"ticks\":\"\"},\"colorscale\":[[0.0,\"#0d0887\"],[0.1111111111111111,\"#46039f\"],[0.2222222222222222,\"#7201a8\"],[0.3333333333333333,\"#9c179e\"],[0.4444444444444444,\"#bd3786\"],[0.5555555555555556,\"#d8576b\"],[0.6666666666666666,\"#ed7953\"],[0.7777777777777778,\"#fb9f3a\"],[0.8888888888888888,\"#fdca26\"],[1.0,\"#f0f921\"]]}],\"heatmapgl\":[{\"type\":\"heatmapgl\",\"colorbar\":{\"outlinewidth\":0,\"ticks\":\"\"},\"colorscale\":[[0.0,\"#0d0887\"],[0.1111111111111111,\"#46039f\"],[0.2222222222222222,\"#7201a8\"],[0.3333333333333333,\"#9c179e\"],[0.4444444444444444,\"#bd3786\"],[0.5555555555555556,\"#d8576b\"],[0.6666666666666666,\"#ed7953\"],[0.7777777777777778,\"#fb9f3a\"],[0.8888888888888888,\"#fdca26\"],[1.0,\"#f0f921\"]]}],\"contourcarpet\":[{\"type\":\"contourcarpet\",\"colorbar\":{\"outlinewidth\":0,\"ticks\":\"\"}}],\"contour\":[{\"type\":\"contour\",\"colorbar\":{\"outlinewidth\":0,\"ticks\":\"\"},\"colorscale\":[[0.0,\"#0d0887\"],[0.1111111111111111,\"#46039f\"],[0.2222222222222222,\"#7201a8\"],[0.3333333333333333,\"#9c179e\"],[0.4444444444444444,\"#bd3786\"],[0.5555555555555556,\"#d8576b\"],[0.6666666666666666,\"#ed7953\"],[0.7777777777777778,\"#fb9f3a\"],[0.8888888888888888,\"#fdca26\"],[1.0,\"#f0f921\"]]}],\"surface\":[{\"type\":\"surface\",\"colorbar\":{\"outlinewidth\":0,\"ticks\":\"\"},\"colorscale\":[[0.0,\"#0d0887\"],[0.1111111111111111,\"#46039f\"],[0.2222222222222222,\"#7201a8\"],[0.3333333333333333,\"#9c179e\"],[0.4444444444444444,\"#bd3786\"],[0.5555555555555556,\"#d8576b\"],[0.6666666666666666,\"#ed7953\"],[0.7777777777777778,\"#fb9f3a\"],[0.8888888888888888,\"#fdca26\"],[1.0,\"#f0f921\"]]}],\"mesh3d\":[{\"type\":\"mesh3d\",\"colorbar\":{\"outlinewidth\":0,\"ticks\":\"\"}}],\"scatter\":[{\"fillpattern\":{\"fillmode\":\"overlay\",\"size\":10,\"solidity\":0.2},\"type\":\"scatter\"}],\"parcoords\":[{\"type\":\"parcoords\",\"line\":{\"colorbar\":{\"outlinewidth\":0,\"ticks\":\"\"}}}],\"scatterpolargl\":[{\"type\":\"scatterpolargl\",\"marker\":{\"colorbar\":{\"outlinewidth\":0,\"ticks\":\"\"}}}],\"bar\":[{\"error_x\":{\"color\":\"#2a3f5f\"},\"error_y\":{\"color\":\"#2a3f5f\"},\"marker\":{\"line\":{\"color\":\"#E5ECF6\",\"width\":0.5},\"pattern\":{\"fillmode\":\"overlay\",\"size\":10,\"solidity\":0.2}},\"type\":\"bar\"}],\"scattergeo\":[{\"type\":\"scattergeo\",\"marker\":{\"colorbar\":{\"outlinewidth\":0,\"ticks\":\"\"}}}],\"scatterpolar\":[{\"type\":\"scatterpolar\",\"marker\":{\"colorbar\":{\"outlinewidth\":0,\"ticks\":\"\"}}}],\"histogram\":[{\"marker\":{\"pattern\":{\"fillmode\":\"overlay\",\"size\":10,\"solidity\":0.2}},\"type\":\"histogram\"}],\"scattergl\":[{\"type\":\"scattergl\",\"marker\":{\"colorbar\":{\"outlinewidth\":0,\"ticks\":\"\"}}}],\"scatter3d\":[{\"type\":\"scatter3d\",\"line\":{\"colorbar\":{\"outlinewidth\":0,\"ticks\":\"\"}},\"marker\":{\"colorbar\":{\"outlinewidth\":0,\"ticks\":\"\"}}}],\"scattermapbox\":[{\"type\":\"scattermapbox\",\"marker\":{\"colorbar\":{\"outlinewidth\":0,\"ticks\":\"\"}}}],\"scatterternary\":[{\"type\":\"scatterternary\",\"marker\":{\"colorbar\":{\"outlinewidth\":0,\"ticks\":\"\"}}}],\"scattercarpet\":[{\"type\":\"scattercarpet\",\"marker\":{\"colorbar\":{\"outlinewidth\":0,\"ticks\":\"\"}}}],\"carpet\":[{\"aaxis\":{\"endlinecolor\":\"#2a3f5f\",\"gridcolor\":\"white\",\"linecolor\":\"white\",\"minorgridcolor\":\"white\",\"startlinecolor\":\"#2a3f5f\"},\"baxis\":{\"endlinecolor\":\"#2a3f5f\",\"gridcolor\":\"white\",\"linecolor\":\"white\",\"minorgridcolor\":\"white\",\"startlinecolor\":\"#2a3f5f\"},\"type\":\"carpet\"}],\"table\":[{\"cells\":{\"fill\":{\"color\":\"#EBF0F8\"},\"line\":{\"color\":\"white\"}},\"header\":{\"fill\":{\"color\":\"#C8D4E3\"},\"line\":{\"color\":\"white\"}},\"type\":\"table\"}],\"barpolar\":[{\"marker\":{\"line\":{\"color\":\"#E5ECF6\",\"width\":0.5},\"pattern\":{\"fillmode\":\"overlay\",\"size\":10,\"solidity\":0.2}},\"type\":\"barpolar\"}],\"pie\":[{\"automargin\":true,\"type\":\"pie\"}]},\"layout\":{\"autotypenumbers\":\"strict\",\"colorway\":[\"#636efa\",\"#EF553B\",\"#00cc96\",\"#ab63fa\",\"#FFA15A\",\"#19d3f3\",\"#FF6692\",\"#B6E880\",\"#FF97FF\",\"#FECB52\"],\"font\":{\"color\":\"#2a3f5f\"},\"hovermode\":\"closest\",\"hoverlabel\":{\"align\":\"left\"},\"paper_bgcolor\":\"white\",\"plot_bgcolor\":\"#E5ECF6\",\"polar\":{\"bgcolor\":\"#E5ECF6\",\"angularaxis\":{\"gridcolor\":\"white\",\"linecolor\":\"white\",\"ticks\":\"\"},\"radialaxis\":{\"gridcolor\":\"white\",\"linecolor\":\"white\",\"ticks\":\"\"}},\"ternary\":{\"bgcolor\":\"#E5ECF6\",\"aaxis\":{\"gridcolor\":\"white\",\"linecolor\":\"white\",\"ticks\":\"\"},\"baxis\":{\"gridcolor\":\"white\",\"linecolor\":\"white\",\"ticks\":\"\"},\"caxis\":{\"gridcolor\":\"white\",\"linecolor\":\"white\",\"ticks\":\"\"}},\"coloraxis\":{\"colorbar\":{\"outlinewidth\":0,\"ticks\":\"\"}},\"colorscale\":{\"sequential\":[[0.0,\"#0d0887\"],[0.1111111111111111,\"#46039f\"],[0.2222222222222222,\"#7201a8\"],[0.3333333333333333,\"#9c179e\"],[0.4444444444444444,\"#bd3786\"],[0.5555555555555556,\"#d8576b\"],[0.6666666666666666,\"#ed7953\"],[0.7777777777777778,\"#fb9f3a\"],[0.8888888888888888,\"#fdca26\"],[1.0,\"#f0f921\"]],\"sequentialminus\":[[0.0,\"#0d0887\"],[0.1111111111111111,\"#46039f\"],[0.2222222222222222,\"#7201a8\"],[0.3333333333333333,\"#9c179e\"],[0.4444444444444444,\"#bd3786\"],[0.5555555555555556,\"#d8576b\"],[0.6666666666666666,\"#ed7953\"],[0.7777777777777778,\"#fb9f3a\"],[0.8888888888888888,\"#fdca26\"],[1.0,\"#f0f921\"]],\"diverging\":[[0,\"#8e0152\"],[0.1,\"#c51b7d\"],[0.2,\"#de77ae\"],[0.3,\"#f1b6da\"],[0.4,\"#fde0ef\"],[0.5,\"#f7f7f7\"],[0.6,\"#e6f5d0\"],[0.7,\"#b8e186\"],[0.8,\"#7fbc41\"],[0.9,\"#4d9221\"],[1,\"#276419\"]]},\"xaxis\":{\"gridcolor\":\"white\",\"linecolor\":\"white\",\"ticks\":\"\",\"title\":{\"standoff\":15},\"zerolinecolor\":\"white\",\"automargin\":true,\"zerolinewidth\":2},\"yaxis\":{\"gridcolor\":\"white\",\"linecolor\":\"white\",\"ticks\":\"\",\"title\":{\"standoff\":15},\"zerolinecolor\":\"white\",\"automargin\":true,\"zerolinewidth\":2},\"scene\":{\"xaxis\":{\"backgroundcolor\":\"#E5ECF6\",\"gridcolor\":\"white\",\"linecolor\":\"white\",\"showbackground\":true,\"ticks\":\"\",\"zerolinecolor\":\"white\",\"gridwidth\":2},\"yaxis\":{\"backgroundcolor\":\"#E5ECF6\",\"gridcolor\":\"white\",\"linecolor\":\"white\",\"showbackground\":true,\"ticks\":\"\",\"zerolinecolor\":\"white\",\"gridwidth\":2},\"zaxis\":{\"backgroundcolor\":\"#E5ECF6\",\"gridcolor\":\"white\",\"linecolor\":\"white\",\"showbackground\":true,\"ticks\":\"\",\"zerolinecolor\":\"white\",\"gridwidth\":2}},\"shapedefaults\":{\"line\":{\"color\":\"#2a3f5f\"}},\"annotationdefaults\":{\"arrowcolor\":\"#2a3f5f\",\"arrowhead\":0,\"arrowwidth\":1},\"geo\":{\"bgcolor\":\"white\",\"landcolor\":\"#E5ECF6\",\"subunitcolor\":\"white\",\"showland\":true,\"showlakes\":true,\"lakecolor\":\"white\"},\"title\":{\"x\":0.05},\"mapbox\":{\"style\":\"light\"}}},\"title\":{\"text\":\"Average High and Low Temperatures in New York\"},\"xaxis\":{\"title\":{\"text\":\"Month\"}},\"yaxis\":{\"title\":{\"text\":\"Temperature (degrees F)\"}}},                        {\"responsive\": true}                    ).then(function(){\n",
       "                            \n",
       "var gd = document.getElementById('ba581898-9a1b-4fe2-b201-65630fd39cbf');\n",
       "var x = new MutationObserver(function (mutations, observer) {{\n",
       "        var display = window.getComputedStyle(gd).display;\n",
       "        if (!display || display === 'none') {{\n",
       "            console.log([gd, 'removed!']);\n",
       "            Plotly.purge(gd);\n",
       "            observer.disconnect();\n",
       "        }}\n",
       "}});\n",
       "\n",
       "// Listen for the removal of the full notebook cells\n",
       "var notebookContainer = gd.closest('#notebook-container');\n",
       "if (notebookContainer) {{\n",
       "    x.observe(notebookContainer, {childList: true});\n",
       "}}\n",
       "\n",
       "// Listen for the clearing of the current output cell\n",
       "var outputEl = gd.closest('.output');\n",
       "if (outputEl) {{\n",
       "    x.observe(outputEl, {childList: true});\n",
       "}}\n",
       "\n",
       "                        })                };                });            </script>        </div>"
      ]
     },
     "metadata": {},
     "output_type": "display_data"
    }
   ],
   "source": [
    "# reference taken from following link\n",
    "fig = go.Figure()\n",
    "# Create and style traces\n",
    "fig.add_trace(go.Scatter(x=date, y=min, name='Minimum EVI',\n",
    "                         line=dict(color='firebrick', width=4)))\n",
    "fig.add_trace(go.Scatter(x=date, y=mean, name = 'Mean EVI',\n",
    "                         line=dict(color='royalblue', width=4)))\n",
    "fig.add_trace(go.Scatter(x=date, y=max, name='Max EVI',\n",
    "                         line=dict(color='gray', width=4) \n",
    "))\n",
    "# Edit the layout\n",
    "fig.update_layout(title='Average High and Low Temperatures,\n",
    "                   xaxis_title='Month',\n",
    "                   yaxis_title='Temperature (degrees F)')\n",
    "\n",
    "\n",
    "fig.show()"
   ]
  },
  {
   "cell_type": "markdown",
   "id": "98877b64",
   "metadata": {},
   "source": [
    "- Calcualtion of NDIV can be done in similar fashion. \n",
    "\n",
    "- Using coordinate of cities for Itally  collected [here](https://simplemaps.com/data/it-cities) and saved as `xlsx`, **NDV** and **EVI** DataFrame prepared for each city will be  pushed soon to the gitshub in another notebook using `Sentinel-2` image."
   ]
  },
  {
   "cell_type": "markdown",
   "id": "409759a5",
   "metadata": {},
   "source": []
  }
 ],
 "metadata": {
  "kernelspec": {
   "display_name": "Python 3 (ipykernel)",
   "language": "python",
   "name": "python3"
  },
  "language_info": {
   "codemirror_mode": {
    "name": "ipython",
    "version": 3
   },
   "file_extension": ".py",
   "mimetype": "text/x-python",
   "name": "python",
   "nbconvert_exporter": "python",
   "pygments_lexer": "ipython3",
   "version": "3.9.7"
  }
 },
 "nbformat": 4,
 "nbformat_minor": 5
}
